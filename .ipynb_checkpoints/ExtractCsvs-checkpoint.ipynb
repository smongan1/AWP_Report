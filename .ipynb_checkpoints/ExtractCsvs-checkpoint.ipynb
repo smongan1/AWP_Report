{
 "cells": [
  {
   "cell_type": "code",
   "execution_count": null,
   "id": "07128c64",
   "metadata": {},
   "outputs": [],
   "source": [
    "files = glob.glob(\"CANA Advisors and America's Warrior Partnership Shared Drive/**\", recursive = True)\n",
    "excel_files = [x for x in files if x.endswith('sx')]\n",
    "sep = '|'\n",
    "for file in excel_files:\n",
    "    saveExcelSheetsToCsv(file)"
   ]
  }
 ],
 "metadata": {
  "kernelspec": {
   "display_name": "Python 3 (ipykernel)",
   "language": "python",
   "name": "python3"
  },
  "language_info": {
   "codemirror_mode": {
    "name": "ipython",
    "version": 3
   },
   "file_extension": ".py",
   "mimetype": "text/x-python",
   "name": "python",
   "nbconvert_exporter": "python",
   "pygments_lexer": "ipython3",
   "version": "3.9.13"
  }
 },
 "nbformat": 4,
 "nbformat_minor": 5
}
