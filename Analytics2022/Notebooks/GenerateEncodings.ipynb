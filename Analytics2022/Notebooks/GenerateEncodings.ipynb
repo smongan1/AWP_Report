{
 "cells": [
  {
   "cell_type": "code",
   "execution_count": null,
   "id": "49bf4282",
   "metadata": {},
   "outputs": [],
   "source": [
    "import pandas as pd"
   ]
  },
  {
   "cell_type": "code",
   "execution_count": null,
   "id": "a6a7481c",
   "metadata": {},
   "outputs": [],
   "source": [
    "df_orig = pd.read_csv(\".\\\\raw_csv\\\\2022_Annual_Survey_Aggregate_Data_for_2022_Annual_Survey_20220905222712-SurveyExport.csv\", sep = sep)\n",
    "is_military = df_orig['Are you, or were you ever, an active member of the military or member of the National Guard or Reserve?'] == 'Yes'\n",
    "df_orig_military = df_orig[is_military]\n",
    "df_orig_civ = df_orig[~is_military]"
   ]
  },
  {
   "cell_type": "code",
   "execution_count": null,
   "id": "66ec826c",
   "metadata": {},
   "outputs": [],
   "source": [
    "encodings, droppable = getEncodings(df[question_columns])\n",
    "with open(\"Encodings_2022.dat\", 'wb') as f:\n",
    "    pickle.dump(encodings,f)\n",
    "with open(\"DroppableColumns.dat\", 'wb') as f:\n",
    "    pickle.dump(droppable,f)"
   ]
  },
  {
   "cell_type": "code",
   "execution_count": null,
   "id": "85b52e1d",
   "metadata": {},
   "outputs": [],
   "source": [
    "'''\n",
    "#types = getTypes(df)\n",
    "with open('dataTypes.dat', 'rb') as f:\n",
    "    types = pickle.load(f)\n",
    "    \n",
    "r_types = {}\n",
    "for x, y in types.items():\n",
    "    if not y in r_types:\n",
    "        r_types[y] = []\n",
    "    r_types[y].append(x)\n",
    "r_types.keys()\n",
    "'''"
   ]
  }
 ],
 "metadata": {
  "kernelspec": {
   "display_name": "Python 3 (ipykernel)",
   "language": "python",
   "name": "python3"
  },
  "language_info": {
   "codemirror_mode": {
    "name": "ipython",
    "version": 3
   },
   "file_extension": ".py",
   "mimetype": "text/x-python",
   "name": "python",
   "nbconvert_exporter": "python",
   "pygments_lexer": "ipython3",
   "version": "3.9.13"
  }
 },
 "nbformat": 4,
 "nbformat_minor": 5
}
