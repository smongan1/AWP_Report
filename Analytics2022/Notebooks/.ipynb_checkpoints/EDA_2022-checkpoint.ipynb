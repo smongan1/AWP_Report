{
 "cells": [
  {
   "cell_type": "code",
   "execution_count": 1,
   "id": "2d9b2799",
   "metadata": {},
   "outputs": [
    {
     "name": "stdout",
     "output_type": "stream",
     "text": [
      "Requirement already satisfied: openpyxl in k:\\anaconda\\lib\\site-packages (3.1.2)\n",
      "Requirement already satisfied: et-xmlfile in k:\\anaconda\\lib\\site-packages (from openpyxl) (1.1.0)\n",
      "\n",
      "[notice] A new release of pip available: 22.1.2 -> 23.2.1\n",
      "[notice] To update, run: python.exe -m pip install --upgrade pip\n",
      "Note: you may need to restart the kernel to use updated packages.\n"
     ]
    },
    {
     "name": "stderr",
     "output_type": "stream",
     "text": [
      "WARNING: Ignoring invalid distribution -ffi (c:\\users\\sean\\appdata\\roaming\\python\\python39\\site-packages)\n",
      "WARNING: Ignoring invalid distribution -ffi (c:\\users\\sean\\appdata\\roaming\\python\\python39\\site-packages)\n",
      "WARNING: Ignoring invalid distribution -ffi (c:\\users\\sean\\appdata\\roaming\\python\\python39\\site-packages)\n",
      "WARNING: Ignoring invalid distribution -ffi (c:\\users\\sean\\appdata\\roaming\\python\\python39\\site-packages)\n",
      "WARNING: Ignoring invalid distribution -ffi (c:\\users\\sean\\appdata\\roaming\\python\\python39\\site-packages)\n",
      "WARNING: Ignoring invalid distribution -ffi (c:\\users\\sean\\appdata\\roaming\\python\\python39\\site-packages)\n"
     ]
    }
   ],
   "source": [
    "pip install openpyxl"
   ]
  },
  {
   "cell_type": "code",
   "execution_count": 16,
   "id": "a456867c",
   "metadata": {},
   "outputs": [],
   "source": [
    "import os\n",
    "os.sys.path.append(os.path.join('..',''))\n",
    "import pandas as pd\n",
    "from sklearn.decomposition import FactorAnalysis\n",
    "from sklearn.preprocessing import StandardScaler, Normalizer\n",
    "from sklearn.model_selection import GridSearchCV, train_test_split\n",
    "from sklearn.linear_model import LinearRegression\n",
    "from sklearn.ensemble import ExtraTreesRegressor\n",
    "from sklearn.tree import DecisionTreeRegressor, plot_tree\n",
    "from sklearn.feature_selection import SelectKBest, f_classif\n",
    "from sklearn.impute import KNNImputer\n",
    "import matplotlib.pyplot as plt\n",
    "import seaborn as sns\n",
    "import numpy as np\n",
    "import pickle\n",
    "from utils import encode, resize\n",
    "pd.options.display.max_colwidth = 100\n",
    "sep = '|'\n",
    "random_state = 42"
   ]
  },
  {
   "cell_type": "code",
   "execution_count": 88,
   "id": "918297a1",
   "metadata": {},
   "outputs": [],
   "source": [
    "def SpRank(X, y):\n",
    "    X2 = {x : i for i,x in enumerate(sorted(X))}\n",
    "    y2 = {x : i for i,x in enumerate(sorted(y))}\n",
    "    df = pd.DataFrame({'X' : X, 'y' : y})\n",
    "    df['X_rank'] = df['X'].apply(X2.__getitem__)\n",
    "    df['y_rank'] = df['y'].apply(y2.__getitem__)\n",
    "    return df[['X_rank', 'y_rank']].corr()['y_rank'].values[0]\n",
    "\n",
    "def getMeanErrorStats(y_observed, y_predicted, samples = 10, sample_elements = 50):\n",
    "    sample_diffs = []\n",
    "    for _ in range(samples):\n",
    "        sample_indicies = [np.random.randint(0,len(y_observed)) for __ in range(sample_elements)]\n",
    "        y_test1 = y_predicted[sample_indicies]\n",
    "        y_test2 = y_observed[sample_indicies]\n",
    "        sample_diffs.append((np.mean(y_test1) - np.mean(y_test2))/np.mean(y_test2))\n",
    "    mn = np.mean(sample_diffs)\n",
    "    sd = np.std(sample_diffs)\n",
    "    mn = max(mn, abs(np.mean(y_observed) - np.mean(y_predicted))/np.mean(y_observed))\n",
    "    return mn, sd\n",
    "\n",
    "def dropUnbalancedColumns(df):\n",
    "    columns_to_drop = []\n",
    "    for col in df:\n",
    "        uns = df[col].unique()\n",
    "        if len(uns) == 2:\n",
    "            cnts = df[col].value_counts()\n",
    "            if max(cnts[uns[0]], cnts[uns[1]])/min(cnts[uns[0]], cnts[uns[1]]) > 10:\n",
    "                columns_to_drop.append(col)\n",
    "    df = df.drop(columns = columns_to_drop)\n",
    "    return df\n",
    "\n",
    "def filterDict(scs, min_corr_th):\n",
    "    mn = np.mean([abs(x) for x in scs.values() if not np.isnan(x)])\n",
    "    sd = np.std([abs(x) for x in scs.values() if not np.isnan(x)])\n",
    "    scs = {col : scs[col] for col in scs if abs(scs[col]) > (mn+3*sd) or scs[col] > min_corr_th}\n",
    "    return scs\n",
    "\n",
    "def makeDecompositionDf(df, mode = None, min_corr_th = .3):\n",
    "    if mode is None:\n",
    "        mode = PCA()\n",
    "    model = mode\n",
    "    col_names = str(model.__class__).split('.')[-1].split(\"'\")[0]\n",
    "    df_decomp_cols = [x for x in df if not 'hope' in x.lower()]\n",
    "    df_decomp = model.fit_transform(StandardScaler().fit_transform(df[df_decomp_cols]))\n",
    "    df_decomp[df_decomp > 4] = 4\n",
    "    df_decomp[df_decomp < -4] = -4\n",
    "    df_decomp = pd.DataFrame({col_names + str(i): df_decomp[:,i] for i in range(df_decomp.shape[1])})\n",
    "    \n",
    "    scs = {col : SpRank(df_decomp[col].values, df['Hope Scale Score'].values) for col in df_decomp}\n",
    "    scs2nd_order = {'@'.join([col1, col2]): SpRank((df_decomp[col1]*df_decomp[col2]).values, \n",
    "                                                  df['Hope Scale Score'].values)  \n",
    "                    for i,col1 in enumerate(df_decomp.columns) for col2 in df_decomp.columns[i:]}\n",
    "    scs2nd_orderv2 = {'@'.join([col2, col1]): SpRank((df_decomp[col2] + df_decomp[col2].min())/(df_decomp[col1] + df_decomp[col1].min()+.01).fillna(0).values, \n",
    "                                                  df['Hope Scale Score'].values)  \n",
    "                    for i,col1 in enumerate(df_decomp.columns[:(len(df_decomp.columns)-1)]) for col2 in df_decomp.columns[(i+1):]}\n",
    "    scs = filterDict(scs, min_corr_th)\n",
    "    scs2nd_order = filterDict(scs2nd_order,  min_corr_th)\n",
    "    scs2nd_orderv2 = filterDict(scs2nd_orderv2,  min_corr_th)\n",
    "    return df_decomp, scs, scs2nd_order, scs2nd_orderv2"
   ]
  },
  {
   "cell_type": "code",
   "execution_count": 6,
   "id": "eb8ebd65",
   "metadata": {},
   "outputs": [],
   "source": [
    "with open(os.path.join(\"..\", \"Data\", \"Encodings_2022.dat\"), 'rb') as f:\n",
    "    encodings = pickle.load(f)\n",
    "with open(os.path.join(\"..\", \"Data\", \"DroppableColumns.dat\"), 'rb') as f:\n",
    "    droppable = pickle.load(f)\n",
    "encodings['No@Yes'] = {'Yes' : 1.0, 'No' : 0.0}\n",
    "encodings['Not Seeking@Seeking'] = {'Seeking' : 1.0, 'Not Seeking' : 0.0}"
   ]
  },
  {
   "cell_type": "code",
   "execution_count": 206,
   "id": "464d02f9",
   "metadata": {},
   "outputs": [],
   "source": [
    "survey_root = os.path.join(\"..\", \"..\", \"raw_csv\")\n",
    "survey_csv = \"2022_Annual_Survey_Aggregate_Data_for_2022_Annual_Survey_20220905222712-SurveyExport.csv\"\n",
    "survey_path = os.path.join(survey_root, survey_csv)\n",
    "df_orig = pd.read_csv(survey_path, sep = sep)\n",
    "for x in df_orig:\n",
    "    if df_orig[x].isna().sum() == len(df_orig):\n",
    "        df_orig.drop(columns = x)\n",
    "\n",
    "df_orig = df_orig[df_orig.apply(lambda x : sum([pd.isna(y) for y in x])/len(x) < 0.5, axis = 1)]\n",
    "df_orig = df_orig[~df_orig['Hope Scale Score'].isna()]\n",
    "df_orig = df_orig.drop(columns = droppable)\n",
    "is_military = df_orig['Are you, or were you ever, an active member of the military or member of the National Guard or Reserve?'] == 'Yes'\n",
    "df_orig_military = df_orig[is_military]\n",
    "df_orig_civ = df_orig[~is_military]"
   ]
  },
  {
   "cell_type": "markdown",
   "id": "90c2d1af",
   "metadata": {},
   "source": [
    "# Data Cleaning"
   ]
  },
  {
   "cell_type": "code",
   "execution_count": 246,
   "id": "6a37c392",
   "metadata": {
    "scrolled": false
   },
   "outputs": [],
   "source": [
    "df = df_orig_military.copy()\n",
    "\n",
    "replacements_dictionary = {'Yes' : 1,\n",
    "                          'No' : 0,\n",
    "                          \"I don't know/unsure\" : 0.5,\n",
    "                           'Prefer not to respond' : 0.5,\n",
    "                           'Unknown' : 0.5,\n",
    "                           'Unsure' : 0.5,\n",
    "                          'Seeking' : 1,\n",
    "                          'Not Seeking': 0}\n",
    "feet_col = 'Feet:'\n",
    "inch_col = 'Inches:'\n",
    "srvc_start_col = \"What year did you begin your time in the service? (Ex: 1985)\"\n",
    "srvc_end_col = \"What year did your status become retired/discharged? (Ex: 2006)\"\n",
    "non_question_columns = {\"Response ID\", \"Time Started\", \"Date Submitted\", \n",
    "                        \"Status\", \"Language\", \"Referer\", \"SessionID\",\n",
    "                       \"Legacy Comments\", \"Comments\", \"User Agent\", \"Tags\", \n",
    "                        \"Contact Information- Non Military Connected\",\n",
    "                       \"What is your zip code?\"}\n",
    "non_question_columns = ['Response ID',\n",
    " 'Time Started',\n",
    " 'Date Submitted',\n",
    " 'Status',\n",
    " 'Language',\n",
    " 'Referer',\n",
    " 'SessionID',\n",
    " 'What is your zip code?',\n",
    "                       \"Time Started\"]\n",
    "#df = df.fillna(-1)\n",
    "# question_columns = [x for x in df if not x in non_question_columns and not x in droppableColumns]\n",
    "\n",
    "question_columns = [x for x in df if not x in non_question_columns]\n",
    "\n",
    "df = df[question_columns]\n",
    "df['Service Start Decade'] = df[srvc_start_col].apply(round, args = [-1])\n",
    "df[feet_col] = df[feet_col].apply(lambda x : np.nan if isinstance(x, str) else x).astype(float)\n",
    "df[feet_col] = df[feet_col].apply(lambda x: np.nan if x<4 or x > 6 else x)\n",
    "df[inch_col] = df[inch_col].apply(lambda x: np.nan if isinstance(x, str) else x).astype(float)\n",
    "df[inch_col] = df[inch_col].apply(lambda x: np.nan if x<0 or x > 12 else x)\n",
    "df['Height In Inches'] = (12 * df[feet_col] + df[inch_col]).copy()\n",
    "df[srvc_end_col] = df[srvc_end_col].apply(lambda x : np.nan if isinstance(x, str) else x).astype(float)\n",
    "df[srvc_start_col] = df[srvc_start_col].apply(lambda x: np.nan if isinstance(x, str) else x).astype(float)\n",
    "df['Years Of Service'] = (df[srvc_end_col] - df[srvc_start_col]).apply(lambda x : np.nan if x < 0 else x)\n",
    "df['Length Of Service In Decades'] = df['Years Of Service']//10\n",
    "df['BMI'] = (df['What is your current weight? (in pounds)Â\\xa0']/(df['Height In Inches']/39.3701)**2)\n",
    "df = df.drop(columns = [feet_col, inch_col, srvc_end_col])\n",
    "df['IsMinority?'] = df['Race:Â\\xa0'] == 'White American'\n",
    "df = encode(df, encodings)\n",
    "droppableColumns = ['Race:Â\\xa0', \n",
    "                    'You have indicated that you have a form of healthcare coverage as well as you have untreated medical conditions. What prevents you from receiving treatment for your medical conditions? Â\\xa0']\n",
    "for col in df:\n",
    "    num_na = df[col].isna().sum()\n",
    "    if (num_na > 1 and df[col].dropna().nunique() == 1) or num_na > len(df) * (.8):\n",
    "        df[col] = df[col].isna()\n",
    "        continue\n",
    "    if num_na == len(df) or df[col].dropna().nunique() == 1:\n",
    "        droppableColumns.append(col)\n",
    "        continue\n",
    "\n",
    "df = df.drop(columns = droppableColumns)\n",
    "df = encode(df, encodings)\n",
    "\n",
    "encodable_cols = []\n",
    "cols_to_fill = []\n",
    "for col in df:\n",
    "    for col2 in df:\n",
    "        if col2 in encodable_cols:\n",
    "            continue\n",
    "        try:\n",
    "            df[col2].astype(float)\n",
    "            encodable_cols.append(col2)\n",
    "        except:\n",
    "            None\n",
    "    num_na = df[col].isna().sum()\n",
    "    if num_na == 0:\n",
    "        continue\n",
    "    imputer = KNNImputer()\n",
    "    cols_fit = [x for x in encodable_cols] + [col]\n",
    "    try: \n",
    "        df[cols_fit] = imputer.fit_transform(df[cols_fit])\n",
    "    except:\n",
    "        cols_to_fill.append(col)\n",
    "    #try: df[col] = df[col].fillna(df[col].mean())\n",
    "df['BMI'] = df['BMI'].apply(lambda x : max(min(x, 70), 15))\n",
    "droppableColumns = ['What is your current weight? (in pounds)Â\\xa0']\n",
    "for col in df:\n",
    "    num_na = df[col].isna().sum()\n",
    "    if (num_na > 1 and df[col].dropna().nunique() == 1) or num_na > len(df) * (.8):\n",
    "        df[col] = df[col].isna()\n",
    "    if num_na == len(df):\n",
    "        droppableColumns.append(col)\n",
    "    df[col] = df[col].fillna(df[col].mode().values[0])\n",
    "    try: df[col] = df[col].fillna(df[col].mean())\n",
    "    except: None\n",
    "df = df.drop(columns = droppableColumns)\n",
    "question_columns = [x for x in df if not x in non_question_columns]\n",
    "df = encode(df, encodings)\n",
    "df = df[question_columns]\n",
    "df = df.replace(replacements_dictionary)\n",
    "df = df.drop(columns = [x for x in df.dtypes[df.dtypes == 'O'].index])\n",
    "df = dropUnbalancedColumns(df)"
   ]
  },
  {
   "cell_type": "markdown",
   "id": "c85f9f61",
   "metadata": {},
   "source": [
    "# Imact Column Generation"
   ]
  },
  {
   "cell_type": "code",
   "execution_count": 247,
   "id": "481ba117",
   "metadata": {},
   "outputs": [],
   "source": [
    "df['Has reliable transportation?'] = df['What is your primary mode of transportation?'].isin([7.0, 2.0])\n",
    "df['Owns a car?'] = df['What is your primary mode of transportation?'].isin([7.0])\n",
    "df['Has Community Opportunities?'] = df['There are opportunities for active military members/veterans in my community:To what extent do you disagree or agree with the following statements:']>= 2\n",
    "df[\"Needs Housing Assistance?\"] = (~df[\"Housing statusÂ\\xa0\"].isin([1.0, 4.0, 5.0]))\n",
    "df['Veteran serving organizations care deeply about my well being?'] = (df['Care deeply about my well being:To what extent do you disagree or agree with the following statements regardingÂ\\xa0veteran serving organizations within your community?'] >= 2)\n",
    "df['Community is involved with veterans?'] = (df['My community is invested in active military/veterans:To what extent do you disagree or agree with the following statements:'] >= 2)\n",
    "df['Seeking Value'] = df[[x for x in df if 'seek' in x]].apply(sum, axis = 1)\n",
    "df['Has Dependable Support?'] = df['There are people I can depend on to help me if I really need it:To what extent do you disagree or agree with the following statements:'] >=2\n",
    "df = df.reset_index(drop = True)"
   ]
  },
  {
   "cell_type": "markdown",
   "id": "2895be90",
   "metadata": {},
   "source": [
    "# Factor Analaysis"
   ]
  },
  {
   "cell_type": "code",
   "execution_count": 248,
   "id": "30af0898",
   "metadata": {
    "scrolled": true
   },
   "outputs": [],
   "source": [
    "cols = [x for x in df if not 'hope' in x.lower()] + ['Hope Scale Score']\n",
    "fa_model = FactorAnalysis(random_state = random_state)\n",
    "df_fa, fa_scs, fa_scs2, fa_scs22 = makeDecompositionDf(df[cols], fa_model)"
   ]
  },
  {
   "cell_type": "code",
   "execution_count": 249,
   "id": "0bb239d2",
   "metadata": {
    "scrolled": true
   },
   "outputs": [
    {
     "name": "stderr",
     "output_type": "stream",
     "text": [
      "C:\\Users\\Sean\\AppData\\Local\\Temp\\ipykernel_18904\\824794499.py:13: PerformanceWarning: DataFrame is highly fragmented.  This is usually the result of calling `frame.insert` many times, which has poor performance.  Consider joining all columns at once using pd.concat(axis=1) instead. To get a de-fragmented frame, use `newframe = frame.copy()`\n",
      "  df1[col] = ((df2[col1] + df2[col2].min())/(df2[col1] + df2[col1].min()+.01)).values\n",
      "C:\\Users\\Sean\\AppData\\Local\\Temp\\ipykernel_18904\\824794499.py:13: PerformanceWarning: DataFrame is highly fragmented.  This is usually the result of calling `frame.insert` many times, which has poor performance.  Consider joining all columns at once using pd.concat(axis=1) instead. To get a de-fragmented frame, use `newframe = frame.copy()`\n",
      "  df1[col] = ((df2[col1] + df2[col2].min())/(df2[col1] + df2[col1].min()+.01)).values\n",
      "C:\\Users\\Sean\\AppData\\Local\\Temp\\ipykernel_18904\\824794499.py:13: PerformanceWarning: DataFrame is highly fragmented.  This is usually the result of calling `frame.insert` many times, which has poor performance.  Consider joining all columns at once using pd.concat(axis=1) instead. To get a de-fragmented frame, use `newframe = frame.copy()`\n",
      "  df1[col] = ((df2[col1] + df2[col2].min())/(df2[col1] + df2[col1].min()+.01)).values\n",
      "C:\\Users\\Sean\\AppData\\Local\\Temp\\ipykernel_18904\\824794499.py:13: PerformanceWarning: DataFrame is highly fragmented.  This is usually the result of calling `frame.insert` many times, which has poor performance.  Consider joining all columns at once using pd.concat(axis=1) instead. To get a de-fragmented frame, use `newframe = frame.copy()`\n",
      "  df1[col] = ((df2[col1] + df2[col2].min())/(df2[col1] + df2[col1].min()+.01)).values\n",
      "C:\\Users\\Sean\\AppData\\Local\\Temp\\ipykernel_18904\\824794499.py:13: PerformanceWarning: DataFrame is highly fragmented.  This is usually the result of calling `frame.insert` many times, which has poor performance.  Consider joining all columns at once using pd.concat(axis=1) instead. To get a de-fragmented frame, use `newframe = frame.copy()`\n",
      "  df1[col] = ((df2[col1] + df2[col2].min())/(df2[col1] + df2[col1].min()+.01)).values\n",
      "C:\\Users\\Sean\\AppData\\Local\\Temp\\ipykernel_18904\\824794499.py:13: PerformanceWarning: DataFrame is highly fragmented.  This is usually the result of calling `frame.insert` many times, which has poor performance.  Consider joining all columns at once using pd.concat(axis=1) instead. To get a de-fragmented frame, use `newframe = frame.copy()`\n",
      "  df1[col] = ((df2[col1] + df2[col2].min())/(df2[col1] + df2[col1].min()+.01)).values\n",
      "C:\\Users\\Sean\\AppData\\Local\\Temp\\ipykernel_18904\\824794499.py:13: PerformanceWarning: DataFrame is highly fragmented.  This is usually the result of calling `frame.insert` many times, which has poor performance.  Consider joining all columns at once using pd.concat(axis=1) instead. To get a de-fragmented frame, use `newframe = frame.copy()`\n",
      "  df1[col] = ((df2[col1] + df2[col2].min())/(df2[col1] + df2[col1].min()+.01)).values\n",
      "C:\\Users\\Sean\\AppData\\Local\\Temp\\ipykernel_18904\\824794499.py:13: PerformanceWarning: DataFrame is highly fragmented.  This is usually the result of calling `frame.insert` many times, which has poor performance.  Consider joining all columns at once using pd.concat(axis=1) instead. To get a de-fragmented frame, use `newframe = frame.copy()`\n",
      "  df1[col] = ((df2[col1] + df2[col2].min())/(df2[col1] + df2[col1].min()+.01)).values\n",
      "C:\\Users\\Sean\\AppData\\Local\\Temp\\ipykernel_18904\\824794499.py:13: PerformanceWarning: DataFrame is highly fragmented.  This is usually the result of calling `frame.insert` many times, which has poor performance.  Consider joining all columns at once using pd.concat(axis=1) instead. To get a de-fragmented frame, use `newframe = frame.copy()`\n",
      "  df1[col] = ((df2[col1] + df2[col2].min())/(df2[col1] + df2[col1].min()+.01)).values\n",
      "C:\\Users\\Sean\\AppData\\Local\\Temp\\ipykernel_18904\\824794499.py:13: PerformanceWarning: DataFrame is highly fragmented.  This is usually the result of calling `frame.insert` many times, which has poor performance.  Consider joining all columns at once using pd.concat(axis=1) instead. To get a de-fragmented frame, use `newframe = frame.copy()`\n",
      "  df1[col] = ((df2[col1] + df2[col2].min())/(df2[col1] + df2[col1].min()+.01)).values\n",
      "C:\\Users\\Sean\\AppData\\Local\\Temp\\ipykernel_18904\\824794499.py:13: PerformanceWarning: DataFrame is highly fragmented.  This is usually the result of calling `frame.insert` many times, which has poor performance.  Consider joining all columns at once using pd.concat(axis=1) instead. To get a de-fragmented frame, use `newframe = frame.copy()`\n",
      "  df1[col] = ((df2[col1] + df2[col2].min())/(df2[col1] + df2[col1].min()+.01)).values\n",
      "C:\\Users\\Sean\\AppData\\Local\\Temp\\ipykernel_18904\\824794499.py:13: PerformanceWarning: DataFrame is highly fragmented.  This is usually the result of calling `frame.insert` many times, which has poor performance.  Consider joining all columns at once using pd.concat(axis=1) instead. To get a de-fragmented frame, use `newframe = frame.copy()`\n",
      "  df1[col] = ((df2[col1] + df2[col2].min())/(df2[col1] + df2[col1].min()+.01)).values\n",
      "C:\\Users\\Sean\\AppData\\Local\\Temp\\ipykernel_18904\\824794499.py:13: PerformanceWarning: DataFrame is highly fragmented.  This is usually the result of calling `frame.insert` many times, which has poor performance.  Consider joining all columns at once using pd.concat(axis=1) instead. To get a de-fragmented frame, use `newframe = frame.copy()`\n",
      "  df1[col] = ((df2[col1] + df2[col2].min())/(df2[col1] + df2[col1].min()+.01)).values\n",
      "C:\\Users\\Sean\\AppData\\Local\\Temp\\ipykernel_18904\\824794499.py:13: PerformanceWarning: DataFrame is highly fragmented.  This is usually the result of calling `frame.insert` many times, which has poor performance.  Consider joining all columns at once using pd.concat(axis=1) instead. To get a de-fragmented frame, use `newframe = frame.copy()`\n",
      "  df1[col] = ((df2[col1] + df2[col2].min())/(df2[col1] + df2[col1].min()+.01)).values\n",
      "C:\\Users\\Sean\\AppData\\Local\\Temp\\ipykernel_18904\\824794499.py:13: PerformanceWarning: DataFrame is highly fragmented.  This is usually the result of calling `frame.insert` many times, which has poor performance.  Consider joining all columns at once using pd.concat(axis=1) instead. To get a de-fragmented frame, use `newframe = frame.copy()`\n",
      "  df1[col] = ((df2[col1] + df2[col2].min())/(df2[col1] + df2[col1].min()+.01)).values\n",
      "C:\\Users\\Sean\\AppData\\Local\\Temp\\ipykernel_18904\\824794499.py:13: PerformanceWarning: DataFrame is highly fragmented.  This is usually the result of calling `frame.insert` many times, which has poor performance.  Consider joining all columns at once using pd.concat(axis=1) instead. To get a de-fragmented frame, use `newframe = frame.copy()`\n",
      "  df1[col] = ((df2[col1] + df2[col2].min())/(df2[col1] + df2[col1].min()+.01)).values\n",
      "C:\\Users\\Sean\\AppData\\Local\\Temp\\ipykernel_18904\\824794499.py:13: PerformanceWarning: DataFrame is highly fragmented.  This is usually the result of calling `frame.insert` many times, which has poor performance.  Consider joining all columns at once using pd.concat(axis=1) instead. To get a de-fragmented frame, use `newframe = frame.copy()`\n",
      "  df1[col] = ((df2[col1] + df2[col2].min())/(df2[col1] + df2[col1].min()+.01)).values\n",
      "C:\\Users\\Sean\\AppData\\Local\\Temp\\ipykernel_18904\\824794499.py:13: PerformanceWarning: DataFrame is highly fragmented.  This is usually the result of calling `frame.insert` many times, which has poor performance.  Consider joining all columns at once using pd.concat(axis=1) instead. To get a de-fragmented frame, use `newframe = frame.copy()`\n",
      "  df1[col] = ((df2[col1] + df2[col2].min())/(df2[col1] + df2[col1].min()+.01)).values\n",
      "C:\\Users\\Sean\\AppData\\Local\\Temp\\ipykernel_18904\\824794499.py:13: PerformanceWarning: DataFrame is highly fragmented.  This is usually the result of calling `frame.insert` many times, which has poor performance.  Consider joining all columns at once using pd.concat(axis=1) instead. To get a de-fragmented frame, use `newframe = frame.copy()`\n",
      "  df1[col] = ((df2[col1] + df2[col2].min())/(df2[col1] + df2[col1].min()+.01)).values\n",
      "C:\\Users\\Sean\\AppData\\Local\\Temp\\ipykernel_18904\\824794499.py:13: PerformanceWarning: DataFrame is highly fragmented.  This is usually the result of calling `frame.insert` many times, which has poor performance.  Consider joining all columns at once using pd.concat(axis=1) instead. To get a de-fragmented frame, use `newframe = frame.copy()`\n",
      "  df1[col] = ((df2[col1] + df2[col2].min())/(df2[col1] + df2[col1].min()+.01)).values\n",
      "C:\\Users\\Sean\\AppData\\Local\\Temp\\ipykernel_18904\\824794499.py:13: PerformanceWarning: DataFrame is highly fragmented.  This is usually the result of calling `frame.insert` many times, which has poor performance.  Consider joining all columns at once using pd.concat(axis=1) instead. To get a de-fragmented frame, use `newframe = frame.copy()`\n",
      "  df1[col] = ((df2[col1] + df2[col2].min())/(df2[col1] + df2[col1].min()+.01)).values\n",
      "C:\\Users\\Sean\\AppData\\Local\\Temp\\ipykernel_18904\\824794499.py:13: PerformanceWarning: DataFrame is highly fragmented.  This is usually the result of calling `frame.insert` many times, which has poor performance.  Consider joining all columns at once using pd.concat(axis=1) instead. To get a de-fragmented frame, use `newframe = frame.copy()`\n",
      "  df1[col] = ((df2[col1] + df2[col2].min())/(df2[col1] + df2[col1].min()+.01)).values\n",
      "C:\\Users\\Sean\\AppData\\Local\\Temp\\ipykernel_18904\\824794499.py:13: PerformanceWarning: DataFrame is highly fragmented.  This is usually the result of calling `frame.insert` many times, which has poor performance.  Consider joining all columns at once using pd.concat(axis=1) instead. To get a de-fragmented frame, use `newframe = frame.copy()`\n",
      "  df1[col] = ((df2[col1] + df2[col2].min())/(df2[col1] + df2[col1].min()+.01)).values\n",
      "C:\\Users\\Sean\\AppData\\Local\\Temp\\ipykernel_18904\\824794499.py:13: PerformanceWarning: DataFrame is highly fragmented.  This is usually the result of calling `frame.insert` many times, which has poor performance.  Consider joining all columns at once using pd.concat(axis=1) instead. To get a de-fragmented frame, use `newframe = frame.copy()`\n",
      "  df1[col] = ((df2[col1] + df2[col2].min())/(df2[col1] + df2[col1].min()+.01)).values\n",
      "C:\\Users\\Sean\\AppData\\Local\\Temp\\ipykernel_18904\\824794499.py:13: PerformanceWarning: DataFrame is highly fragmented.  This is usually the result of calling `frame.insert` many times, which has poor performance.  Consider joining all columns at once using pd.concat(axis=1) instead. To get a de-fragmented frame, use `newframe = frame.copy()`\n",
      "  df1[col] = ((df2[col1] + df2[col2].min())/(df2[col1] + df2[col1].min()+.01)).values\n",
      "C:\\Users\\Sean\\AppData\\Local\\Temp\\ipykernel_18904\\824794499.py:13: PerformanceWarning: DataFrame is highly fragmented.  This is usually the result of calling `frame.insert` many times, which has poor performance.  Consider joining all columns at once using pd.concat(axis=1) instead. To get a de-fragmented frame, use `newframe = frame.copy()`\n",
      "  df1[col] = ((df2[col1] + df2[col2].min())/(df2[col1] + df2[col1].min()+.01)).values\n",
      "C:\\Users\\Sean\\AppData\\Local\\Temp\\ipykernel_18904\\824794499.py:13: PerformanceWarning: DataFrame is highly fragmented.  This is usually the result of calling `frame.insert` many times, which has poor performance.  Consider joining all columns at once using pd.concat(axis=1) instead. To get a de-fragmented frame, use `newframe = frame.copy()`\n",
      "  df1[col] = ((df2[col1] + df2[col2].min())/(df2[col1] + df2[col1].min()+.01)).values\n",
      "C:\\Users\\Sean\\AppData\\Local\\Temp\\ipykernel_18904\\824794499.py:13: PerformanceWarning: DataFrame is highly fragmented.  This is usually the result of calling `frame.insert` many times, which has poor performance.  Consider joining all columns at once using pd.concat(axis=1) instead. To get a de-fragmented frame, use `newframe = frame.copy()`\n",
      "  df1[col] = ((df2[col1] + df2[col2].min())/(df2[col1] + df2[col1].min()+.01)).values\n",
      "C:\\Users\\Sean\\AppData\\Local\\Temp\\ipykernel_18904\\824794499.py:13: PerformanceWarning: DataFrame is highly fragmented.  This is usually the result of calling `frame.insert` many times, which has poor performance.  Consider joining all columns at once using pd.concat(axis=1) instead. To get a de-fragmented frame, use `newframe = frame.copy()`\n",
      "  df1[col] = ((df2[col1] + df2[col2].min())/(df2[col1] + df2[col1].min()+.01)).values\n",
      "C:\\Users\\Sean\\AppData\\Local\\Temp\\ipykernel_18904\\824794499.py:13: PerformanceWarning: DataFrame is highly fragmented.  This is usually the result of calling `frame.insert` many times, which has poor performance.  Consider joining all columns at once using pd.concat(axis=1) instead. To get a de-fragmented frame, use `newframe = frame.copy()`\n",
      "  df1[col] = ((df2[col1] + df2[col2].min())/(df2[col1] + df2[col1].min()+.01)).values\n",
      "C:\\Users\\Sean\\AppData\\Local\\Temp\\ipykernel_18904\\824794499.py:13: PerformanceWarning: DataFrame is highly fragmented.  This is usually the result of calling `frame.insert` many times, which has poor performance.  Consider joining all columns at once using pd.concat(axis=1) instead. To get a de-fragmented frame, use `newframe = frame.copy()`\n",
      "  df1[col] = ((df2[col1] + df2[col2].min())/(df2[col1] + df2[col1].min()+.01)).values\n",
      "C:\\Users\\Sean\\AppData\\Local\\Temp\\ipykernel_18904\\824794499.py:13: PerformanceWarning: DataFrame is highly fragmented.  This is usually the result of calling `frame.insert` many times, which has poor performance.  Consider joining all columns at once using pd.concat(axis=1) instead. To get a de-fragmented frame, use `newframe = frame.copy()`\n",
      "  df1[col] = ((df2[col1] + df2[col2].min())/(df2[col1] + df2[col1].min()+.01)).values\n",
      "C:\\Users\\Sean\\AppData\\Local\\Temp\\ipykernel_18904\\824794499.py:13: PerformanceWarning: DataFrame is highly fragmented.  This is usually the result of calling `frame.insert` many times, which has poor performance.  Consider joining all columns at once using pd.concat(axis=1) instead. To get a de-fragmented frame, use `newframe = frame.copy()`\n",
      "  df1[col] = ((df2[col1] + df2[col2].min())/(df2[col1] + df2[col1].min()+.01)).values\n",
      "C:\\Users\\Sean\\AppData\\Local\\Temp\\ipykernel_18904\\824794499.py:13: PerformanceWarning: DataFrame is highly fragmented.  This is usually the result of calling `frame.insert` many times, which has poor performance.  Consider joining all columns at once using pd.concat(axis=1) instead. To get a de-fragmented frame, use `newframe = frame.copy()`\n",
      "  df1[col] = ((df2[col1] + df2[col2].min())/(df2[col1] + df2[col1].min()+.01)).values\n",
      "C:\\Users\\Sean\\AppData\\Local\\Temp\\ipykernel_18904\\824794499.py:13: PerformanceWarning: DataFrame is highly fragmented.  This is usually the result of calling `frame.insert` many times, which has poor performance.  Consider joining all columns at once using pd.concat(axis=1) instead. To get a de-fragmented frame, use `newframe = frame.copy()`\n",
      "  df1[col] = ((df2[col1] + df2[col2].min())/(df2[col1] + df2[col1].min()+.01)).values\n",
      "C:\\Users\\Sean\\AppData\\Local\\Temp\\ipykernel_18904\\824794499.py:13: PerformanceWarning: DataFrame is highly fragmented.  This is usually the result of calling `frame.insert` many times, which has poor performance.  Consider joining all columns at once using pd.concat(axis=1) instead. To get a de-fragmented frame, use `newframe = frame.copy()`\n",
      "  df1[col] = ((df2[col1] + df2[col2].min())/(df2[col1] + df2[col1].min()+.01)).values\n",
      "C:\\Users\\Sean\\AppData\\Local\\Temp\\ipykernel_18904\\824794499.py:13: PerformanceWarning: DataFrame is highly fragmented.  This is usually the result of calling `frame.insert` many times, which has poor performance.  Consider joining all columns at once using pd.concat(axis=1) instead. To get a de-fragmented frame, use `newframe = frame.copy()`\n",
      "  df1[col] = ((df2[col1] + df2[col2].min())/(df2[col1] + df2[col1].min()+.01)).values\n",
      "C:\\Users\\Sean\\AppData\\Local\\Temp\\ipykernel_18904\\824794499.py:13: PerformanceWarning: DataFrame is highly fragmented.  This is usually the result of calling `frame.insert` many times, which has poor performance.  Consider joining all columns at once using pd.concat(axis=1) instead. To get a de-fragmented frame, use `newframe = frame.copy()`\n",
      "  df1[col] = ((df2[col1] + df2[col2].min())/(df2[col1] + df2[col1].min()+.01)).values\n",
      "C:\\Users\\Sean\\AppData\\Local\\Temp\\ipykernel_18904\\824794499.py:13: PerformanceWarning: DataFrame is highly fragmented.  This is usually the result of calling `frame.insert` many times, which has poor performance.  Consider joining all columns at once using pd.concat(axis=1) instead. To get a de-fragmented frame, use `newframe = frame.copy()`\n",
      "  df1[col] = ((df2[col1] + df2[col2].min())/(df2[col1] + df2[col1].min()+.01)).values\n",
      "C:\\Users\\Sean\\AppData\\Local\\Temp\\ipykernel_18904\\824794499.py:13: PerformanceWarning: DataFrame is highly fragmented.  This is usually the result of calling `frame.insert` many times, which has poor performance.  Consider joining all columns at once using pd.concat(axis=1) instead. To get a de-fragmented frame, use `newframe = frame.copy()`\n",
      "  df1[col] = ((df2[col1] + df2[col2].min())/(df2[col1] + df2[col1].min()+.01)).values\n",
      "C:\\Users\\Sean\\AppData\\Local\\Temp\\ipykernel_18904\\824794499.py:13: PerformanceWarning: DataFrame is highly fragmented.  This is usually the result of calling `frame.insert` many times, which has poor performance.  Consider joining all columns at once using pd.concat(axis=1) instead. To get a de-fragmented frame, use `newframe = frame.copy()`\n",
      "  df1[col] = ((df2[col1] + df2[col2].min())/(df2[col1] + df2[col1].min()+.01)).values\n",
      "C:\\Users\\Sean\\AppData\\Local\\Temp\\ipykernel_18904\\824794499.py:13: PerformanceWarning: DataFrame is highly fragmented.  This is usually the result of calling `frame.insert` many times, which has poor performance.  Consider joining all columns at once using pd.concat(axis=1) instead. To get a de-fragmented frame, use `newframe = frame.copy()`\n",
      "  df1[col] = ((df2[col1] + df2[col2].min())/(df2[col1] + df2[col1].min()+.01)).values\n"
     ]
    }
   ],
   "source": [
    "def fillCols(df1, df2, data_dict):\n",
    "    for col in data_dict:\n",
    "        df1[col] = df2[col].values\n",
    "        \n",
    "def fillCols_mult(df1, df2, data_dict):\n",
    "    for col in data_dict:\n",
    "        col1, col2 = col.split('@')\n",
    "        df1[col] = (df2[col1] * df2[col2]).values\n",
    "        \n",
    "def fillCols_div(df1, df2, data_dict):\n",
    "    for col in data_dict:\n",
    "        col1, col2 = col.split('@')\n",
    "        df1[col] = ((df2[col1] + df2[col2].min())/(df2[col1] + df2[col1].min()+.01)).values\n",
    "        \n",
    "fillCols(df, df_fa, fa_scs)\n",
    "df = df.copy()\n",
    "fillCols_mult(df, df_fa, fa_scs2)\n",
    "df = df.copy()\n",
    "fillCols_div(df, df_fa, fa_scs22)\n",
    "df = df.copy()"
   ]
  },
  {
   "cell_type": "markdown",
   "id": "97ba2d38",
   "metadata": {},
   "source": [
    "# Feature Selection"
   ]
  },
  {
   "cell_type": "code",
   "execution_count": 250,
   "id": "ee581621",
   "metadata": {
    "scrolled": true
   },
   "outputs": [
    {
     "name": "stderr",
     "output_type": "stream",
     "text": [
      "K:\\Anaconda\\lib\\site-packages\\sklearn\\feature_selection\\_univariate_selection.py:112: UserWarning: Features [  0   1   2   3  45  53  70  71  72  73  74  75  76  77  78 116 117 118] are constant.\n",
      "  warnings.warn(\"Features %s are constant.\" % constant_features_idx, UserWarning)\n",
      "K:\\Anaconda\\lib\\site-packages\\sklearn\\feature_selection\\_univariate_selection.py:113: RuntimeWarning: invalid value encountered in true_divide\n",
      "  f = msb / msw\n"
     ]
    }
   ],
   "source": [
    "catagory_columns = [x for x in df if df[x].nunique() <= 10 and not 'Hope' in x]\n",
    "non_catagory_columns = [x for x in df if not x in catagory_columns and not 'Hope' in x]\n",
    "scs = {col : SpRank(df[col], df['Hope Scale Score']) for col in non_catagory_columns}.items()\n",
    "non_catagory_columns_filtered = [x[0] for x in scs if abs(x[1])>.2]\n",
    "ANOVA = SelectKBest(f_classif, k = 7)\n",
    "ANOVA.fit_transform(df[catagory_columns], df['Hope Scale Score'])\n",
    "catagory_columns_filtered = ANOVA.get_feature_names_out()"
   ]
  },
  {
   "cell_type": "code",
   "execution_count": 251,
   "id": "9e01b72f",
   "metadata": {},
   "outputs": [],
   "source": [
    "pred_col = 'Hope Scale Score'\n",
    "derived_columns = {'There are opportunities for active military members/veterans in my community:To what extent do you disagree or agree with the following statements:',\n",
    "                  'What is your primary mode of transportation?',\n",
    "                  'Veterans Affairs (VA):What type of health insurance coverage do you currently have for yourself?Â\\xa0 Please check all that apply.',\n",
    "                  \"Housing statusÂ\\xa0\",\n",
    "                  'Care deeply about my well being:To what extent do you disagree or agree with the following statements regardingÂ\\xa0veteran serving organizations within your community?',\n",
    "                  'My community is invested in active military/veterans:To what extent do you disagree or agree with the following statements:',\n",
    "                  'There are people I can depend on to help me if I really need it:To what extent do you disagree or agree with the following statements:'}\n",
    "impact_columns = {\n",
    "    'Veteran serving organizations care deeply about my well being?' : True,\n",
    "    'Community is involved with veterans?' : True,\n",
    "    'Has Dependable Support?' : True,\n",
    "    'Owns a car?' : True,\n",
    "    'Do you consider your current job a career?' : True\n",
    "}\n",
    "scale_columns = [x for x in non_catagory_columns_filtered if not x in derived_columns]\n",
    "predictors = sorted([y for y in set([x for x in catagory_columns_filtered] + \n",
    "              [ x for x in non_catagory_columns_filtered] + \n",
    "              [x for x in impact_columns]) if not y in derived_columns]\n",
    "            )"
   ]
  },
  {
   "cell_type": "markdown",
   "id": "1469e72e",
   "metadata": {},
   "source": [
    "# Retrieving Factor Information"
   ]
  },
  {
   "cell_type": "code",
   "execution_count": 273,
   "id": "e3307e9c",
   "metadata": {
    "scrolled": false
   },
   "outputs": [
    {
     "data": {
      "text/plain": [
       "{0: ['Scales Negatively With Number of needs Seeking Assistance for',\n",
       "  'Scales Negatively With Education benefits (e.g., Montgomery, Post-9/11, GI Bill) - for my family  or myself:What information or resources are you seeking (Select all that apply)?',\n",
       "  'Scales Negatively With Better transportation:What information or resources are you seeking (Select all that apply)?',\n",
       "  'Scales Negatively With New housing:What information or resources are you seeking (Select all that apply)?',\n",
       "  'Scales Negatively With Resources/classes on financial counseling (e.g., how to maintain strong finances):What information or resources are you seeking (Select all that apply)?',\n",
       "  'Scales Negatively With Obtaining employment:What information or resources are you seeking (Select all that apply)?',\n",
       "  'Scales Negatively With Better housing conditions (safer, more secure):What information or resources are you seeking (Select all that apply)?',\n",
       "  'Scales Negatively With Have you participated in adaptive sports programs?',\n",
       "  'Scales Negatively With Support to stay in school (e.g., remain on track to graduate):What information or resources are you seeking (Select all that apply)?',\n",
       "  'Scales Negatively With Marriage/family programs:What information or resources are you seeking (Select all that apply)?',\n",
       "  'Scales Negatively With Better employment conditions (with better pay, benefits, etc.):What information or resources are you seeking (Select all that apply)?',\n",
       "  'Scales Negatively With Short-term financial assistance (e.g., to address utility bills, etc.):What information or resources are you seeking (Select all that apply)?',\n",
       "  'Scales Positively With Owns a car?',\n",
       "  'Scales Negatively With Enrollment in school (e.g., an education program/vocational program):What information or resources are you seeking (Select all that apply)?',\n",
       "  'Scales Positively With Has reliable transportation?',\n",
       "  'Scales Negatively With Physical health treatment and/or resources and support (e.g., Better access to scheduled appointments):What information or resources are you seeking (Select all that apply)?',\n",
       "  'Scales Negatively With Spirituality resources and support:What information or resources are you seeking (Select all that apply)?',\n",
       "  'Scales Negatively With Opportunities to participate in adaptive sports/disabled veteran programs:What information or resources are you seeking (Select all that apply)?',\n",
       "  'Scales Negatively With What year did you begin your time in the service? (Ex: 1985)',\n",
       "  'Scales Negatively With Service Start Decade',\n",
       "  'Scales Negatively With You mentioned you are unemployed and not seeking employment.',\n",
       "  'Scales Positively With What is your primary mode of transportation?'],\n",
       " 1: ['Scales Negatively With Have helped me become healthier overall:To what extent do you disagree or agree with the following statements regarding',\n",
       "  'Scales Negatively With Care deeply about my well being:To what extent do you disagree or agree with the following statements regarding',\n",
       "  'Scales Negatively With Has empowered me:To what extent do you disagree or agree with the following statements regarding',\n",
       "  'Scales Negatively With Has helped me feel more fulfilled in my daily life:To what extent do you disagree or agree with the following statements regarding',\n",
       "  'Scales Negatively With Are highly responsive:To what extent do you disagree or agree with the following statements regarding',\n",
       "  'Scales Negatively With Have helped me feel more connected to my community:To what extent do you disagree or agree with the following statements regarding',\n",
       "  'Scales Negatively With My community is invested in active military/veterans:To what extent do you disagree or agree with the following statements:',\n",
       "  'Scales Negatively With Organizations in my community provide active military/veterans with the services they need:To what extent do you disagree or agree with the following statements:',\n",
       "  'Scales Negatively With There are opportunities for active military members/veterans in my community:To what extent do you disagree or agree with the following statements:',\n",
       "  'Scales Negatively With There is a strong network of support for active military/veterans in my community:To what extent do you disagree or agree with the following statements:',\n",
       "  'Scales Negatively With Have connected me to other veterans:To what extent do you disagree or agree with the following statements regarding',\n",
       "  'Scales Negatively With Have connected my family/caregiver to other active military/veteran family members or their caregivers:To what extent do you disagree or agree with the following statements regarding',\n",
       "  'Scales Negatively With Have connected me to recreational or volunteer opportunities:To what extent do you disagree or agree with the following statements regarding',\n",
       "  'Scales Negatively With Have helped me find a job that can support me/my family :To what extent do you disagree or agree with the following statements regarding',\n",
       "  'Scales Negatively With Have assisted me with filing healthcare/benefits claims:To what extent do you disagree or agree with the following statements regarding',\n",
       "  \"Scales Negatively With Have improved my community's understanding of active military/veterans issues:To what extent do you disagree or agree with the following statements regarding\",\n",
       "  'Scales Negatively With There are opportunities for my family/caregiver  to connect with fellow military/veteran families/caregivers:To what extent do you disagree or agree with the following statements:',\n",
       "  'Scales Negatively With Have helped me stay in my current job:To what extent do you disagree or agree with the following statements regarding',\n",
       "  'Scales Negatively With Has reduced my level of daily stress:To what extent do you disagree or agree with the following statements regarding'],\n",
       " 3: ['Scales Positively With Owns a car?',\n",
       "  'Scales Positively With Has reliable transportation?',\n",
       "  'Scales Positively With What is your primary mode of transportation?',\n",
       "  'Scales Positively With Housing status',\n",
       "  'Scales Positively With Opportunities for me to connect with other military/veteran service members and families/caregivers:What information or resources are you seeking (Select all that apply)?',\n",
       "  'Scales Negatively With Needs Housing Assistance?',\n",
       "  'Scales Negatively With Post-9/11 era (September 11, 2001 - Present):Service era (Select all that apply)',\n",
       "  'Scales Negatively With Are you at risk of becoming homeless?',\n",
       "  'Scales Positively With Number of needs Seeking Assistance for',\n",
       "  'Scales Positively With Volunteer opportunities:What information or resources are you seeking (Select all that apply)?',\n",
       "  'Scales Positively With Participation in recreational therapy programs:What information or resources are you seeking (Select all that apply)?',\n",
       "  'Scales Negatively With Veterans Affairs (VA):What type of health insurance coverage do you currently have for yourself?',\n",
       "  'Scales Positively With Do you consider this a reliable mode of transportation for your lifestyle?'],\n",
       " 4: ['Scales Negatively With Length Of Service In Decades',\n",
       "  'Scales Negatively With Years Of Service',\n",
       "  'Scales Positively With Post-9/11 era (September 11, 2001 - Present):Service era (Select all that apply)',\n",
       "  'Scales Negatively With Service Start Decade',\n",
       "  'Scales Negatively With What year did you begin your time in the service? (Ex: 1985)',\n",
       "  'Scales Positively With Other government health plan (includes TRICARE or CHAMPUS or ChampVA):What type of health insurance coverage do you currently have for yourself?',\n",
       "  'Scales Negatively With Vietnam era (August 1964 - April 1975):Service era (Select all that apply)',\n",
       "  'Scales Positively With Please indicate how long you have been waiting for a resolution of your un-resolved claims.',\n",
       "  'Scales Negatively With You mentioned you are unemployed and not seeking employment.'],\n",
       " 14: ['Scales Positively With Has Dependable Support?',\n",
       "  'Scales Positively With There are people I can depend on to help me if I really need it:To what extent do you disagree or agree with the following statements:',\n",
       "  'Scales Positively With How many are dependents?',\n",
       "  'Scales Positively With Including yourself, how many people do you consider to be part of your household?',\n",
       "  'Scales Negatively With I have helped organize community events:Please check all that apply to indicate if you participate in your community in any of the following ways:',\n",
       "  'Scales Positively With On average,',\n",
       "  'Scales Negatively With Housing status',\n",
       "  'Scales Positively With smoke a cigarette:After a long day how do you relax or cope with stress; are you more likely to: (Check all that apply)',\n",
       "  'Scales Positively With Do you regularly exercise (engage in physical activity)?',\n",
       "  'Scales Positively With Veteran serving organizations care deeply about my well being?',\n",
       "  'Scales Positively With I participate in community events:Please check all that apply to indicate if you participate in your community in any of the following ways:',\n",
       "  'Scales Negatively With How would you rate your level of satisfaction with the physical health treatments and services?: Rate the resources you may have received from VA or a community-based program:',\n",
       "  'Scales Positively With Needs Housing Assistance?',\n",
       "  'Scales Positively With Physical health treatment and/or resources and support (e.g., Better access to scheduled appointments):What information or resources are you seeking (Select all that apply)?',\n",
       "  'Scales Negatively With read a book:After a long day how do you relax or cope with stress; are you more likely to: (Check all that apply)']}"
      ]
     },
     "execution_count": 273,
     "metadata": {},
     "output_type": "execute_result"
    }
   ],
   "source": [
    "factorSets = set()\n",
    "for x in predictors:\n",
    "    if 'FactorA' in x:\n",
    "        for y in x.replace(\"@\", \"\").split(\"FactorAnalysis\"):\n",
    "            if y:\n",
    "                factorSets.add(int(y))\n",
    "                \n",
    "first65_cols = {}\n",
    "for factor in factorSets:\n",
    "    components = fa_model.components_[factor]\n",
    "    comp_total = np.sum(components**2)\n",
    "    sorted_components = sorted([x for x in zip(cols, components)],  key = lambda x : x[1]**2, reverse = True)\n",
    "    kept_components = []\n",
    "    current_sum = 0\n",
    "    for x in sorted_components:\n",
    "        if current_sum/comp_total > .5:\n",
    "            break\n",
    "        current_sum += x[1]**2\n",
    "        prefix = \"Scales Negatively With \"\n",
    "        if x[1] > 0:\n",
    "            prefix = \"Scales Positively With \"\n",
    "        kept_components.append(prefix + x[0].split(\"Â\\xa0\")[0].replace('Seeking Value', 'Number of needs Seeking Assistance for'))\n",
    "    first65_cols[factor] = kept_components\n",
    "first65_cols"
   ]
  },
  {
   "cell_type": "code",
   "execution_count": 109,
   "id": "4415f55b",
   "metadata": {},
   "outputs": [],
   "source": [
    "FactorAnalysisInformation = pd.DataFrame({\n",
    "    \"FactorId\": [0, 1, 3, 4, 14],\n",
    "    \"FactorName\": [\"Roadblocks to Hope\", \"Emotional Anchors\", \"Stable on the Move\", \"Service Chronicles\", \"Community Bonds\"],\n",
    "    \"FactorDescription\": [\n",
    "        \"This factor reflects a lack of hope associated with difficulties in seeking assistance, education benefits, and housing, but a glimmer of hope through car ownership and reliable transportation.\",\n",
    "        \"This factor captures the emotional aspects of hope, with negative correlations to stress and positive connections to community support and well-being.\",\n",
    "        \"This factor relates to transportation and housing stability, with positive correlations to owning a car and reliable transportation, and negative correlations to housing assistance and homelessness risk.\",\n",
    "        \"This factor delves into military service history and health coverage, highlighting the impact of service eras, insurance, and employment status on hope.\",\n",
    "        \"This factor explores the role of social support, community engagement, and well-being, encompassing factors like dependable support, household size, and coping strategies.\"\n",
    "    ]\n",
    "}\n",
    "\n",
    ")\n",
    "FactorAnalysisInformation['FactorComponents'] = FactorAnalysisInformation[\"FactorId\"].apply(first65_cols.__getitem__)\n",
    "\n",
    "csv_path = os.path.join(\"..\", \"Data\", \"FactorAnalysisInformation.csv\")\n",
    "FactorAnalysisInformation.to_csv(csv_path, index = False, sep = '|')"
   ]
  },
  {
   "cell_type": "markdown",
   "id": "addc6fd6",
   "metadata": {},
   "source": [
    "# Making Training And Test Sets"
   ]
  },
  {
   "cell_type": "code",
   "execution_count": 252,
   "id": "7b76a0b2",
   "metadata": {},
   "outputs": [],
   "source": [
    "XX = df[predictors]\n",
    "YY = df[pred_col]\n",
    "X2, x2, Y, y = train_test_split(XX, YY, random_state = random_state, test_size = 0.5)"
   ]
  },
  {
   "cell_type": "markdown",
   "id": "14717166",
   "metadata": {},
   "source": [
    "# Saving Training And Test Sets"
   ]
  },
  {
   "cell_type": "code",
   "execution_count": 253,
   "id": "db4e9ec0",
   "metadata": {},
   "outputs": [],
   "source": [
    "dfTrain = X2.reset_index(drop = True).copy()\n",
    "dfTrain['Hope Scale Score'] = Y.values\n",
    "dfTest = pd.DataFrame(x2, columns = X2.columns).copy()\n",
    "dfTest['Hope Scale Score'] = y.values\n",
    "\n",
    "csv_path = os.path.join(\"..\", \"Data\", \"train.csv\")\n",
    "dfTrain.to_csv(csv_path, index = False)\n",
    "\n",
    "csv_path = os.path.join(\"..\", \"Data\", \"test.csv\")\n",
    "dfTest.to_csv(csv_path, index = False)"
   ]
  },
  {
   "cell_type": "markdown",
   "id": "4bdfb878",
   "metadata": {},
   "source": [
    "# Loading Training And Test Sets"
   ]
  },
  {
   "cell_type": "code",
   "execution_count": 274,
   "id": "d60a6f02",
   "metadata": {},
   "outputs": [],
   "source": [
    "csv_path = os.path.join(\"..\", \"Data\", \"train.csv\")\n",
    "dfTrain = pd.read_csv(csv_path)\n",
    "\n",
    "#Define Classes By Hope Scale Score\n",
    "\"\"\"\n",
    "dfTrain[\"Hope Scale Score Bin\"] = dfTrain[\"Hope Scale Score\"]//10\n",
    "max_samples = dfTrain[\"Hope Scale Score Bin\"].value_counts().max()\n",
    "#Balance Classes\n",
    "dfTrain_list = []\n",
    "for un in dfTrain[\"Hope Scale Score Bin\"].unique():\n",
    "    dfTrain_list.append(dfTrain[dfTrain['Hope Scale Score Bin'] == un].copy().sample(max_samples, replace = True))\n",
    "    \n",
    "dfTrain = pd.concat(dfTrain_list, ignore_index = True)\n",
    "csv_path = os.path.join(\"..\", \"Data\", \"test.csv\")\n",
    "\"\"\"\n",
    "csv_path = os.path.join(\"..\", \"Data\", \"test.csv\")\n",
    "dfTest = pd.read_csv(csv_path)\n",
    "X2 = dfTrain[predictors]\n",
    "Y = dfTrain[pred_col]\n",
    "x = dfTest[predictors]\n",
    "x2 = dfTest[predictors]\n",
    "y = dfTest[pred_col]"
   ]
  },
  {
   "cell_type": "markdown",
   "id": "d357edc4",
   "metadata": {},
   "source": [
    "# Model Creation"
   ]
  },
  {
   "cell_type": "code",
   "execution_count": 275,
   "id": "555b3b24",
   "metadata": {
    "scrolled": true
   },
   "outputs": [
    {
     "name": "stderr",
     "output_type": "stream",
     "text": [
      "C:\\Users\\Sean\\AppData\\Local\\Temp\\ipykernel_18904\\3491401335.py:11: SettingWithCopyWarning: \n",
      "A value is trying to be set on a copy of a slice from a DataFrame.\n",
      "Try using .loc[row_indexer,col_indexer] = value instead\n",
      "\n",
      "See the caveats in the documentation: https://pandas.pydata.org/pandas-docs/stable/user_guide/indexing.html#returning-a-view-versus-a-copy\n",
      "  X2[scale_columns] = x_scaler.fit_transform(X2[scale_columns])\n"
     ]
    },
    {
     "data": {
      "text/html": [
       "<style>#sk-container-id-14 {color: black;background-color: white;}#sk-container-id-14 pre{padding: 0;}#sk-container-id-14 div.sk-toggleable {background-color: white;}#sk-container-id-14 label.sk-toggleable__label {cursor: pointer;display: block;width: 100%;margin-bottom: 0;padding: 0.3em;box-sizing: border-box;text-align: center;}#sk-container-id-14 label.sk-toggleable__label-arrow:before {content: \"▸\";float: left;margin-right: 0.25em;color: #696969;}#sk-container-id-14 label.sk-toggleable__label-arrow:hover:before {color: black;}#sk-container-id-14 div.sk-estimator:hover label.sk-toggleable__label-arrow:before {color: black;}#sk-container-id-14 div.sk-toggleable__content {max-height: 0;max-width: 0;overflow: hidden;text-align: left;background-color: #f0f8ff;}#sk-container-id-14 div.sk-toggleable__content pre {margin: 0.2em;color: black;border-radius: 0.25em;background-color: #f0f8ff;}#sk-container-id-14 input.sk-toggleable__control:checked~div.sk-toggleable__content {max-height: 200px;max-width: 100%;overflow: auto;}#sk-container-id-14 input.sk-toggleable__control:checked~label.sk-toggleable__label-arrow:before {content: \"▾\";}#sk-container-id-14 div.sk-estimator input.sk-toggleable__control:checked~label.sk-toggleable__label {background-color: #d4ebff;}#sk-container-id-14 div.sk-label input.sk-toggleable__control:checked~label.sk-toggleable__label {background-color: #d4ebff;}#sk-container-id-14 input.sk-hidden--visually {border: 0;clip: rect(1px 1px 1px 1px);clip: rect(1px, 1px, 1px, 1px);height: 1px;margin: -1px;overflow: hidden;padding: 0;position: absolute;width: 1px;}#sk-container-id-14 div.sk-estimator {font-family: monospace;background-color: #f0f8ff;border: 1px dotted black;border-radius: 0.25em;box-sizing: border-box;margin-bottom: 0.5em;}#sk-container-id-14 div.sk-estimator:hover {background-color: #d4ebff;}#sk-container-id-14 div.sk-parallel-item::after {content: \"\";width: 100%;border-bottom: 1px solid gray;flex-grow: 1;}#sk-container-id-14 div.sk-label:hover label.sk-toggleable__label {background-color: #d4ebff;}#sk-container-id-14 div.sk-serial::before {content: \"\";position: absolute;border-left: 1px solid gray;box-sizing: border-box;top: 0;bottom: 0;left: 50%;z-index: 0;}#sk-container-id-14 div.sk-serial {display: flex;flex-direction: column;align-items: center;background-color: white;padding-right: 0.2em;padding-left: 0.2em;position: relative;}#sk-container-id-14 div.sk-item {position: relative;z-index: 1;}#sk-container-id-14 div.sk-parallel {display: flex;align-items: stretch;justify-content: center;background-color: white;position: relative;}#sk-container-id-14 div.sk-item::before, #sk-container-id-14 div.sk-parallel-item::before {content: \"\";position: absolute;border-left: 1px solid gray;box-sizing: border-box;top: 0;bottom: 0;left: 50%;z-index: -1;}#sk-container-id-14 div.sk-parallel-item {display: flex;flex-direction: column;z-index: 1;position: relative;background-color: white;}#sk-container-id-14 div.sk-parallel-item:first-child::after {align-self: flex-end;width: 50%;}#sk-container-id-14 div.sk-parallel-item:last-child::after {align-self: flex-start;width: 50%;}#sk-container-id-14 div.sk-parallel-item:only-child::after {width: 0;}#sk-container-id-14 div.sk-dashed-wrapped {border: 1px dashed gray;margin: 0 0.4em 0.5em 0.4em;box-sizing: border-box;padding-bottom: 0.4em;background-color: white;}#sk-container-id-14 div.sk-label label {font-family: monospace;font-weight: bold;display: inline-block;line-height: 1.2em;}#sk-container-id-14 div.sk-label-container {text-align: center;}#sk-container-id-14 div.sk-container {/* jupyter's `normalize.less` sets `[hidden] { display: none; }` but bootstrap.min.css set `[hidden] { display: none !important; }` so we also need the `!important` here to be able to override the default hidden behavior on the sphinx rendered scikit-learn.org. See: https://github.com/scikit-learn/scikit-learn/issues/21755 */display: inline-block !important;position: relative;}#sk-container-id-14 div.sk-text-repr-fallback {display: none;}</style><div id=\"sk-container-id-14\" class=\"sk-top-container\"><div class=\"sk-text-repr-fallback\"><pre>GridSearchCV(estimator=ExtraTreesRegressor(n_jobs=-1),\n",
       "             param_grid={&#x27;bootstrap&#x27;: [True],\n",
       "                         &#x27;max_depth&#x27;: [None, 10, 15, 20, 25],\n",
       "                         &#x27;max_features&#x27;: [None],\n",
       "                         &#x27;n_estimators&#x27;: [37, 87, 137, 187, 237],\n",
       "                         &#x27;random_state&#x27;: [42]})</pre><b>In a Jupyter environment, please rerun this cell to show the HTML representation or trust the notebook. <br />On GitHub, the HTML representation is unable to render, please try loading this page with nbviewer.org.</b></div><div class=\"sk-container\" hidden><div class=\"sk-item sk-dashed-wrapped\"><div class=\"sk-label-container\"><div class=\"sk-label sk-toggleable\"><input class=\"sk-toggleable__control sk-hidden--visually\" id=\"sk-estimator-id-40\" type=\"checkbox\" ><label for=\"sk-estimator-id-40\" class=\"sk-toggleable__label sk-toggleable__label-arrow\">GridSearchCV</label><div class=\"sk-toggleable__content\"><pre>GridSearchCV(estimator=ExtraTreesRegressor(n_jobs=-1),\n",
       "             param_grid={&#x27;bootstrap&#x27;: [True],\n",
       "                         &#x27;max_depth&#x27;: [None, 10, 15, 20, 25],\n",
       "                         &#x27;max_features&#x27;: [None],\n",
       "                         &#x27;n_estimators&#x27;: [37, 87, 137, 187, 237],\n",
       "                         &#x27;random_state&#x27;: [42]})</pre></div></div></div><div class=\"sk-parallel\"><div class=\"sk-parallel-item\"><div class=\"sk-item\"><div class=\"sk-label-container\"><div class=\"sk-label sk-toggleable\"><input class=\"sk-toggleable__control sk-hidden--visually\" id=\"sk-estimator-id-41\" type=\"checkbox\" ><label for=\"sk-estimator-id-41\" class=\"sk-toggleable__label sk-toggleable__label-arrow\">estimator: ExtraTreesRegressor</label><div class=\"sk-toggleable__content\"><pre>ExtraTreesRegressor(n_jobs=-1)</pre></div></div></div><div class=\"sk-serial\"><div class=\"sk-item\"><div class=\"sk-estimator sk-toggleable\"><input class=\"sk-toggleable__control sk-hidden--visually\" id=\"sk-estimator-id-42\" type=\"checkbox\" ><label for=\"sk-estimator-id-42\" class=\"sk-toggleable__label sk-toggleable__label-arrow\">ExtraTreesRegressor</label><div class=\"sk-toggleable__content\"><pre>ExtraTreesRegressor(n_jobs=-1)</pre></div></div></div></div></div></div></div></div></div></div>"
      ],
      "text/plain": [
       "GridSearchCV(estimator=ExtraTreesRegressor(n_jobs=-1),\n",
       "             param_grid={'bootstrap': [True],\n",
       "                         'max_depth': [None, 10, 15, 20, 25],\n",
       "                         'max_features': [None],\n",
       "                         'n_estimators': [37, 87, 137, 187, 237],\n",
       "                         'random_state': [42]})"
      ]
     },
     "execution_count": 275,
     "metadata": {},
     "output_type": "execute_result"
    }
   ],
   "source": [
    "params = {'n_estimators' : [i*50 + 37 for i in range(5)],\n",
    "          'max_features' : [None],\n",
    "          'max_depth' : [None, 10, 15, 20, 25],\n",
    "          'bootstrap' : [True],\n",
    "          'random_state' : [random_state]\n",
    "         }\n",
    "model_ = ExtraTreesRegressor(n_jobs = -1)\n",
    "\n",
    "\n",
    "x_scaler = StandardScaler()\n",
    "X2[scale_columns] = x_scaler.fit_transform(X2[scale_columns])\n",
    "X2.values[X2.values>4] = 4\n",
    "X2.values[X2.values<-4] = -4\n",
    "model = GridSearchCV(model_, param_grid = params)\n",
    "model.fit(X2.values, Y)"
   ]
  },
  {
   "cell_type": "code",
   "execution_count": 276,
   "id": "65a12aed",
   "metadata": {},
   "outputs": [],
   "source": [
    "import pickle\n",
    "model_path = os.path.join(\"..\", \"Models\", \"RandomForest.model\")\n",
    "with open(model_path, 'wb') as f:\n",
    "    pickle.dump(model, f)"
   ]
  },
  {
   "cell_type": "markdown",
   "id": "d2605787",
   "metadata": {},
   "source": [
    "# Null Hypothesis Test"
   ]
  },
  {
   "cell_type": "code",
   "execution_count": 284,
   "id": "024d1b52",
   "metadata": {},
   "outputs": [
    {
     "name": "stdout",
     "output_type": "stream",
     "text": [
      "Mean Relative Error 0.1591\n",
      "Mean Relative Error Alpha 4.143564214947087e-93\n"
     ]
    },
    {
     "name": "stderr",
     "output_type": "stream",
     "text": [
      "K:\\Anaconda\\lib\\site-packages\\sklearn\\base.py:402: UserWarning: X has feature names, but ExtraTreesRegressor was fitted without feature names\n",
      "  warnings.warn(\n"
     ]
    }
   ],
   "source": [
    "from scipy.stats import norm\n",
    "x2 = x.copy()\n",
    "x2[scale_columns] = x_scaler.fit_transform(x2[scale_columns])\n",
    "def MRE(y1, y2):\n",
    "    return np.mean(abs(y1 - y2)/y2)\n",
    "y_pred = model.predict(x2)\n",
    "pred_mre = np.ceil(MRE(y_pred, y.values)*1000)/1000\n",
    "mre_scores = []\n",
    "y_pred_hyp = y_pred.copy()\n",
    "for _ in range(1000):\n",
    "    np.random.shuffle(y_pred_hyp)\n",
    "    mre_scores.append(MRE(y_pred_hyp, y.values))\n",
    "mn = np.mean(mre_scores)\n",
    "sd = np.std(mre_scores)\n",
    "alpha = norm.cdf(pred_mre, loc = mn, scale = sd)\n",
    "print(\"Mean Relative Error\", pred_mre)\n",
    "print(\"Mean Relative Error Alpha\", alpha)"
   ]
  },
  {
   "cell_type": "code",
   "execution_count": 278,
   "id": "85ff5c43",
   "metadata": {},
   "outputs": [
    {
     "data": {
      "text/html": [
       "<div>\n",
       "<style scoped>\n",
       "    .dataframe tbody tr th:only-of-type {\n",
       "        vertical-align: middle;\n",
       "    }\n",
       "\n",
       "    .dataframe tbody tr th {\n",
       "        vertical-align: top;\n",
       "    }\n",
       "\n",
       "    .dataframe thead th {\n",
       "        text-align: right;\n",
       "    }\n",
       "</style>\n",
       "<table border=\"1\" class=\"dataframe\">\n",
       "  <thead>\n",
       "    <tr style=\"text-align: right;\">\n",
       "      <th></th>\n",
       "      <th>pred</th>\n",
       "      <th>ob</th>\n",
       "    </tr>\n",
       "  </thead>\n",
       "  <tbody>\n",
       "    <tr>\n",
       "      <th>pred</th>\n",
       "      <td>1.00000</td>\n",
       "      <td>0.80378</td>\n",
       "    </tr>\n",
       "    <tr>\n",
       "      <th>ob</th>\n",
       "      <td>0.80378</td>\n",
       "      <td>1.00000</td>\n",
       "    </tr>\n",
       "  </tbody>\n",
       "</table>\n",
       "</div>"
      ],
      "text/plain": [
       "         pred       ob\n",
       "pred  1.00000  0.80378\n",
       "ob    0.80378  1.00000"
      ]
     },
     "execution_count": 278,
     "metadata": {},
     "output_type": "execute_result"
    }
   ],
   "source": [
    "pd.DataFrame({'pred' : y_pred, \"ob\" : y.values}).corr()"
   ]
  },
  {
   "cell_type": "code",
   "execution_count": 279,
   "id": "12dac2a8",
   "metadata": {
    "scrolled": true
   },
   "outputs": [
    {
     "data": {
      "text/plain": [
       "<AxesSubplot: >"
      ]
     },
     "execution_count": 279,
     "metadata": {},
     "output_type": "execute_result"
    },
    {
     "data": {
      "image/png": "[encoded data removed]",
      "text/plain": [
       "<Figure size 640x480 with 1 Axes>"
      ]
     },
     "metadata": {},
     "output_type": "display_data"
    }
   ],
   "source": [
    "sns.scatterplot(y = y_pred, x = y.values)"
   ]
  },
  {
   "cell_type": "code",
   "execution_count": 270,
   "id": "90b1b685",
   "metadata": {},
   "outputs": [
    {
     "data": {
      "text/plain": [
       "[(0.027090012208834027,\n",
       "  'Are highly responsive:To what extent do you disagree or agree with the following statements regardingÂ\\xa0veteran serving organizations within your community?'),\n",
       " (0.028578163281494505, 'Community is involved with veterans?'),\n",
       " (0.028706262323442807,\n",
       "  'Veteran serving organizations care deeply about my well being?'),\n",
       " (0.02965620289553329,\n",
       "  \"Overall, how satisfied are you withÂ\\xa0your community's ability to provide information and resources? Please use the scale below to indicate your level of satisfaction.\"),\n",
       " (0.034220835704452064, 'Has reliable transportation?'),\n",
       " (0.04118410252240006,\n",
       "  'I tend to bounce back after illness, injury, or other hardships:Please indicate how frequently you find each statement below to be truthful to you:'),\n",
       " (0.04432120524019831, 'Has Dependable Support?'),\n",
       " (0.053336550165039735, 'FactorAnalysis1'),\n",
       " (0.054893538844498144, 'Owns a car?'),\n",
       " (0.32569089315282823,\n",
       "  'I am able to adapt when changes occur:Please indicate how frequently you find each statement below to be truthful to you:')]"
      ]
     },
     "execution_count": 270,
     "metadata": {},
     "output_type": "execute_result"
    }
   ],
   "source": [
    "sorted(zip(model.best_estimator_.feature_importances_, X2.columns), key = lambda x: abs(x[0]))[-10:]"
   ]
  },
  {
   "cell_type": "markdown",
   "id": "4467b994",
   "metadata": {},
   "source": [
    "# Estimating the effects of impact"
   ]
  },
  {
   "cell_type": "code",
   "execution_count": 280,
   "id": "73e94622",
   "metadata": {
    "scrolled": false
   },
   "outputs": [
    {
     "name": "stdout",
     "output_type": "stream",
     "text": [
      "Veteran serving organizations care deeply about my well being?\n",
      "Average Hope Scale Score Impact Due to intervention: 4.1% (±0.4%) Increase For 17% Of Service Men And Women\n",
      "(1.41±0.14 raw average, 108±10 raw overall)\n",
      "\n",
      "Community is involved with veterans?\n",
      "Average Hope Scale Score Impact Due to intervention: 12.44% (±1.91%) Increase For 19% Of Service Men And Women\n",
      "(3.86±0.59 raw average, 288±44 raw overall)\n",
      "\n",
      "Has Dependable Support?\n",
      "Average Hope Scale Score Impact Due to intervention: 3.53% (±0.38%) Increase For 16% Of Service Men And Women\n",
      "(1.24±0.13 raw average, 176±19 raw overall)\n",
      "\n",
      "Owns a car?\n",
      "Average Hope Scale Score Impact Due to intervention: 6.21% (±0.72%) Increase For 35% Of Service Men And Women\n",
      "(2.36±0.27 raw average, 501±58 raw overall)\n",
      "\n"
     ]
    },
    {
     "data": {
      "image/png": "[encoded data removed]",
      "text/plain": [
       "<Figure size 640x480 with 1 Axes>"
      ]
     },
     "metadata": {},
     "output_type": "display_data"
    }
   ],
   "source": [
    "x2 = x.copy()\n",
    "x2[scale_columns] = x_scaler.transform(x2[scale_columns])\n",
    "x2.values[x2.values>5] = 5\n",
    "x2.values[x2.values<-5] = -5\n",
    "x2 = x2.values\n",
    "predicted = []\n",
    "predicted_with_intervention = []\n",
    "df_plots = []\n",
    "for impact_column in impact_columns:\n",
    "    \n",
    "    x3 = x.copy()\n",
    "    x3[impact_column] = impact_columns[impact_column]\n",
    "\n",
    "    x3[scale_columns] = x_scaler.transform(x3[scale_columns])\n",
    "    x3[x3>5] = 5\n",
    "    x3[x3<-5] = -5\n",
    "    x3 = x3.values\n",
    "    noeq_index = (x3[:, predictors.index(impact_column)] \n",
    "                  != x2[:, predictors.index(impact_column)])\n",
    "    x_Observed = x2[noeq_index]\n",
    "    x_Speculated = x3[noeq_index]\n",
    "    if len(x_Observed) == 0:\n",
    "        continue\n",
    "    y_pred = model.predict(x_Observed)\n",
    "    y_pred2 = model.predict(x_Speculated)\n",
    "    y_observed = y.values[noeq_index]\n",
    "    diff = y_pred2-y_pred\n",
    "    #diff = y_pred2-y_observed\n",
    "    y_pred = y_pred[diff>0]\n",
    "    y_pred2 = y_pred2[diff>0]\n",
    "    y_observed = y_observed[diff>0]\n",
    "    #y_observed = y.values[noeq_index]\n",
    "    y_mn = np.median(y_observed)\n",
    "    y_mn2 = np.median(y_pred2)\n",
    "    mean_error, std_error = getMeanErrorStats(y_observed, y_pred, samples = 1000, sample_elements = 25)\n",
    "    error = mean_error + 2*std_error\n",
    "    relative_increase = round((100 * (y_mn2 - y_mn)/y_mn), 2)\n",
    "    rel_error = round(relative_increase*error,2)\n",
    "    net_overall_increase = int(round(np.sum((y_pred2 - y_observed))))\n",
    "    net_err = int(round(net_overall_increase*error))\n",
    "    absolute_average_increase = round(y_mn2 - y_mn, 2)\n",
    "    absolute_err = round(absolute_average_increase*error, 2)\n",
    "    percent_afflicted = round(100 * len(y_observed)/len(x))\n",
    "    print(impact_column)\n",
    "    print(f\"Average Hope Scale Score Impact Due to intervention: {relative_increase}% (\" u\"\\u00B1\" + f\"{rel_error}%) Increase For {percent_afflicted}% Of Service Men And Women\")\n",
    "    print(f\"({absolute_average_increase}\" + u\"\\u00B1\" + f\"{absolute_err} raw average, {net_overall_increase}\" + u\"\\u00B1\" + f\"{net_err} raw overall)\")\n",
    "    print()\n",
    "    df_plot = pd.DataFrame({'Hope Scale Score': (3 * [z for z in y_observed]),\n",
    "                           'Predicted Hope Scale Score' : ([z for z in y_pred2] + [z for z in y_observed] +\n",
    "                                                          [z for z in y_pred]),\n",
    "                            'id' : (3 * [i for i in range(len(y_observed))]),\n",
    "                           'With Intervention' : (['After Intervention' for x in y_pred2] + \n",
    "                                                  ['Observed' for x in y_observed] +\n",
    "                                                 ['Predicted' for x in y_observed]),\n",
    "                          'Impact Type' : 3 * [impact_column for z in y_observed]})\n",
    "    predicted.append(y_mn)\n",
    "    predicted_with_intervention.append(y_mn2)\n",
    "    #ax = sns.lmplot(data = df_plot, x = 'Hope Scale Score', y = 'Predicted Hope Scale Score', hue = 'With Intervention', scatter = False)\n",
    "    #plt.show()\n",
    "    df_plots.append(df_plot)\n",
    "df_plot2 = pd.concat(df_plots, ignore_index = True)\n",
    "\n",
    "csv_path = os.path.join(\"..\", \"Data\", \"Results.csv\")\n",
    "df_plot2.to_csv(csv_path, index = False)\n",
    "ax = sns.barplot(data = df_plot2, y = 'Predicted Hope Scale Score', x = \"Impact Type\", hue = 'With Intervention')\n",
    "ax.legend(title=None)\n",
    "ax.set(ylim = (30, 45), title = \"Effects Of Intervention On Hope Scale Score\")\n",
    "ax.set_xticks(ax.get_xticks(), ax.get_xticklabels(), rotation=45, ha='right')\n",
    "plt.show()"
   ]
  },
  {
   "cell_type": "markdown",
   "id": "b893d862",
   "metadata": {},
   "source": [
    "# Verify With Linear Model"
   ]
  },
  {
   "cell_type": "code",
   "execution_count": 281,
   "id": "5c72eb2f",
   "metadata": {},
   "outputs": [],
   "source": [
    "model_lr = LinearRegression()\n",
    "x2 = x.copy()\n",
    "x2[scale_columns] = x_scaler.transform(x2[scale_columns])\n",
    "for col in scale_columns:\n",
    "    None\n",
    "    x2[col] = x2[col].apply(min, args = [4])\n",
    "    x2[col] = x2[col].apply(max, args = [-4])\n",
    "model_lr.fit(X2, Y)\n",
    "model_lr.score(x2, y)\n",
    "y_pred_lr = model_lr.predict(x2)"
   ]
  },
  {
   "cell_type": "code",
   "execution_count": 282,
   "id": "6f13cc01",
   "metadata": {},
   "outputs": [
    {
     "name": "stdout",
     "output_type": "stream",
     "text": [
      "Mean Relative Error 0.166\n",
      "Mean Relative Error Alpha 6.743586699916811e-91\n"
     ]
    }
   ],
   "source": [
    "pred_mre = round(MRE(y_pred_lr, y.values), 3)\n",
    "mre_scores = []\n",
    "y_pred_hyp = y_pred_lr.copy()\n",
    "for _ in range(1000):\n",
    "    np.random.shuffle(y_pred_hyp)\n",
    "    mre_scores.append(MRE(y_pred_hyp, y.values))\n",
    "mn = np.mean(mre_scores)\n",
    "sd = np.std(mre_scores)\n",
    "alpha = norm.cdf(pred_mre, loc = mn, scale = sd)\n",
    "print(\"Mean Relative Error\", pred_mre)\n",
    "print(\"Mean Relative Error Alpha\", alpha)"
   ]
  },
  {
   "cell_type": "code",
   "execution_count": 283,
   "id": "b86e8d31",
   "metadata": {},
   "outputs": [
    {
     "data": {
      "text/html": [
       "<div>\n",
       "<style scoped>\n",
       "    .dataframe tbody tr th:only-of-type {\n",
       "        vertical-align: middle;\n",
       "    }\n",
       "\n",
       "    .dataframe tbody tr th {\n",
       "        vertical-align: top;\n",
       "    }\n",
       "\n",
       "    .dataframe thead th {\n",
       "        text-align: right;\n",
       "    }\n",
       "</style>\n",
       "<table border=\"1\" class=\"dataframe\">\n",
       "  <thead>\n",
       "    <tr style=\"text-align: right;\">\n",
       "      <th></th>\n",
       "      <th>pred</th>\n",
       "      <th>ob</th>\n",
       "    </tr>\n",
       "  </thead>\n",
       "  <tbody>\n",
       "    <tr>\n",
       "      <th>pred</th>\n",
       "      <td>1.000000</td>\n",
       "      <td>0.792166</td>\n",
       "    </tr>\n",
       "    <tr>\n",
       "      <th>ob</th>\n",
       "      <td>0.792166</td>\n",
       "      <td>1.000000</td>\n",
       "    </tr>\n",
       "  </tbody>\n",
       "</table>\n",
       "</div>"
      ],
      "text/plain": [
       "          pred        ob\n",
       "pred  1.000000  0.792166\n",
       "ob    0.792166  1.000000"
      ]
     },
     "execution_count": 283,
     "metadata": {},
     "output_type": "execute_result"
    }
   ],
   "source": [
    "pd.DataFrame({'pred' : y_pred_lr, \"ob\" : y.values}).corr()"
   ]
  },
  {
   "cell_type": "code",
   "execution_count": 264,
   "id": "be3c28f1",
   "metadata": {},
   "outputs": [
    {
     "data": {
      "text/plain": [
       "<AxesSubplot: >"
      ]
     },
     "execution_count": 264,
     "metadata": {},
     "output_type": "execute_result"
    },
    {
     "data": {
      "image/png": "[encoded data removed]",
      "text/plain": [
       "<Figure size 640x480 with 1 Axes>"
      ]
     },
     "metadata": {},
     "output_type": "display_data"
    }
   ],
   "source": [
    "sns.scatterplot(y = y_pred_lr, x = y.values)"
   ]
  },
  {
   "cell_type": "code",
   "execution_count": 271,
   "id": "bc720913",
   "metadata": {},
   "outputs": [
    {
     "data": {
      "text/plain": [
       "[(1.0184898570441752,\n",
       "  'Veteran serving organizations care deeply about my well being?'),\n",
       " (1.0285415220189662,\n",
       "  \"Overall, how satisfied are you withÂ\\xa0your community's ability to provide information and resources? Please use the scale below to indicate your level of satisfaction.\"),\n",
       " (1.4779225905186588, 'Has Dependable Support?'),\n",
       " (1.7113763144541605, 'Has Community Opportunities?'),\n",
       " (1.8871543579087926, 'FactorAnalysis1@FactorAnalysis14'),\n",
       " (2.2105202348274675, 'FactorAnalysis0'),\n",
       " (2.3823079520192523, 'FactorAnalysis3'),\n",
       " (-2.5762645652953715, 'FactorAnalysis1'),\n",
       " (-2.8099197309094337, 'Owns a car?'),\n",
       " (4.6399735448884885,\n",
       "  'I am able to adapt when changes occur:Please indicate how frequently you find each statement below to be truthful to you:')]"
      ]
     },
     "execution_count": 271,
     "metadata": {},
     "output_type": "execute_result"
    }
   ],
   "source": [
    "sorted(zip(model_lr.coef_, model_lr.feature_names_in_), key = lambda x: abs(x[0]))[-10:]"
   ]
  },
  {
   "cell_type": "code",
   "execution_count": 272,
   "id": "3351ab87",
   "metadata": {},
   "outputs": [
    {
     "name": "stderr",
     "output_type": "stream",
     "text": [
      "K:\\Anaconda\\lib\\site-packages\\sklearn\\base.py:409: UserWarning: X does not have valid feature names, but LinearRegression was fitted with feature names\n",
      "  warnings.warn(\n",
      "K:\\Anaconda\\lib\\site-packages\\sklearn\\base.py:409: UserWarning: X does not have valid feature names, but LinearRegression was fitted with feature names\n",
      "  warnings.warn(\n",
      "K:\\Anaconda\\lib\\site-packages\\sklearn\\base.py:409: UserWarning: X does not have valid feature names, but LinearRegression was fitted with feature names\n",
      "  warnings.warn(\n",
      "K:\\Anaconda\\lib\\site-packages\\sklearn\\base.py:409: UserWarning: X does not have valid feature names, but LinearRegression was fitted with feature names\n",
      "  warnings.warn(\n",
      "K:\\Anaconda\\lib\\site-packages\\sklearn\\base.py:409: UserWarning: X does not have valid feature names, but LinearRegression was fitted with feature names\n",
      "  warnings.warn(\n",
      "K:\\Anaconda\\lib\\site-packages\\sklearn\\base.py:409: UserWarning: X does not have valid feature names, but LinearRegression was fitted with feature names\n",
      "  warnings.warn(\n"
     ]
    },
    {
     "name": "stdout",
     "output_type": "stream",
     "text": [
      "Veteran serving organizations care deeply about my well being?\n",
      "Average Hope Scale Score Impact Due to intervention: 2.87% (±0.51%) Increase For 19% Of Service Men And Women\n",
      "(1.02±0.18 raw average, 96±17 raw overall)\n",
      "\n",
      "Community is involved with veterans?\n",
      "Average Hope Scale Score Impact Due to intervention: 1.87% (±0.3%) Increase For 24% Of Service Men And Women\n",
      "(0.71±0.11 raw average, 87±14 raw overall)\n",
      "\n",
      "Has Dependable Support?\n",
      "Average Hope Scale Score Impact Due to intervention: 4.47% (±0.93%) Increase For 16% Of Service Men And Women\n",
      "(1.48±0.31 raw average, 118±24 raw overall)\n",
      "\n"
     ]
    },
    {
     "name": "stderr",
     "output_type": "stream",
     "text": [
      "K:\\Anaconda\\lib\\site-packages\\sklearn\\base.py:409: UserWarning: X does not have valid feature names, but LinearRegression was fitted with feature names\n",
      "  warnings.warn(\n",
      "K:\\Anaconda\\lib\\site-packages\\sklearn\\base.py:409: UserWarning: X does not have valid feature names, but LinearRegression was fitted with feature names\n",
      "  warnings.warn(\n"
     ]
    },
    {
     "data": {
      "image/png": "[encoded data removed]",
      "text/plain": [
       "<Figure size 640x480 with 1 Axes>"
      ]
     },
     "metadata": {},
     "output_type": "display_data"
    }
   ],
   "source": [
    "x2 = x.copy()\n",
    "x2[scale_columns] = x_scaler.transform(x2[scale_columns])\n",
    "x2 = x2.values\n",
    "predicted = []\n",
    "predicted_with_intervention = []\n",
    "df_plots = []\n",
    "for impact_column in impact_columns:\n",
    "    \n",
    "    x3 = x.copy()\n",
    "    x3[impact_column] = impact_columns[impact_column]\n",
    "\n",
    "    x3[scale_columns] = x_scaler.transform(x3[scale_columns])\n",
    "    x3 = x3.values\n",
    "    noeq_index = (x3[:, predictors.index(impact_column)] \n",
    "                  != x2[:, predictors.index(impact_column)])\n",
    "    x_Observed = x2[noeq_index]\n",
    "    x_Speculated = x3[noeq_index]\n",
    "    if len(x_Observed) == 0 or len(x_Speculated) == 0:\n",
    "        continue\n",
    "    y_pred = model_lr.predict(x_Observed)\n",
    "    y_pred2 = model_lr.predict(x_Speculated)\n",
    "    diff = y_pred2-y_pred\n",
    "    y_pred = y_pred[diff>0]\n",
    "    if len(y_pred) == 0:\n",
    "        continue\n",
    "    y_pred2 = y_pred2[diff>0]\n",
    "    y_observed = y.values[noeq_index][diff>0]\n",
    "    y_mn = np.mean(y_observed)\n",
    "    y_mn2 = np.mean(y_pred2)\n",
    "    mean_error, std_error = getMeanErrorStats(y_observed, y_pred, samples = 1000, sample_elements = 25)\n",
    "    error = mean_error + 4*std_error\n",
    "    relative_increase = round((100 * (y_mn2 - y_mn)/y_mn), 2)\n",
    "    rel_error = round(relative_increase*error,2)\n",
    "    net_overall_increase = int(round(np.sum((y_pred2 - y_observed))))\n",
    "    net_err = int(round(net_overall_increase*error))\n",
    "    absolute_average_increase = round(y_mn2 - y_mn, 2)\n",
    "    absolute_err = round(absolute_average_increase*error, 2)\n",
    "    percent_afflicted = round(100 * len(y_observed)/len(x))\n",
    "    print(impact_column)\n",
    "    print(f\"Average Hope Scale Score Impact Due to intervention: {relative_increase}% (\" u\"\\u00B1\" + f\"{rel_error}%) Increase For {percent_afflicted}% Of Service Men And Women\")\n",
    "    print(f\"({absolute_average_increase}\" + u\"\\u00B1\" + f\"{absolute_err} raw average, {net_overall_increase}\" + u\"\\u00B1\" + f\"{net_err} raw overall)\")\n",
    "    print()\n",
    "    df_plot = pd.DataFrame({'Hope Scale Score': (2 * [z for z in y_observed]),\n",
    "                           'Predicted Hope Scale Score' : [z for z in y_pred] + [z for z in y_pred2],\n",
    "                           'With Intervention' : [False for x in y_pred] + [True for x in y_pred2],\n",
    "                          'Impact Type' : 2 * [impact_column for z in y_observed]})\n",
    "    predicted.append(y_mn)\n",
    "    predicted_with_intervention.append(y_mn2)\n",
    "    #ax = sns.lmplot(data = df_plot, x = 'Hope Scale Score', y = 'Predicted Hope Scale Score', hue = 'With Intervention', scatter = False)\n",
    "    #plt.show()\n",
    "    df_plots.append(df_plot)\n",
    "df_plot2 = pd.concat(df_plots, ignore_index = True)\n",
    "ax = sns.barplot(data = df_plot2, y = 'Predicted Hope Scale Score', x = \"Impact Type\", hue = 'With Intervention')\n",
    "ax.set(ylim = (25, 45))\n",
    "ax.set_xticks(ax.get_xticks(), ax.get_xticklabels(), rotation=45, ha='right')\n",
    "plt.show()"
   ]
  },
  {
   "cell_type": "code",
   "execution_count": null,
   "id": "7e88d204",
   "metadata": {},
   "outputs": [],
   "source": [
    "model_path = os.path.join(\"..\", \"Models\", \"Linear.model\")\n",
    "with open(model_path, \"wb\") as f:\n",
    "    pickle.dump(model_lr, f)"
   ]
  },
  {
   "cell_type": "markdown",
   "id": "44221db5",
   "metadata": {},
   "source": [
    "# DecisionTree Layout"
   ]
  },
  {
   "cell_type": "code",
   "execution_count": null,
   "id": "57229276",
   "metadata": {},
   "outputs": [],
   "source": [
    "import copy\n",
    "DT_model = GridSearchCV(DecisionTreeRegressor(), param_grid = {\n",
    "    \"criterion\" : [\"squared_error\", \"friedman_mse\", \"absolute_error\", \"poisson\"],\n",
    "    \"splitter\" : [\"best\", \"random\"],\n",
    "    \"max_depth\" : [None, 2, 5, 10, 15, 20, 25],\n",
    "    \"random_state\" : [42]\n",
    "})\n",
    "X3 = copy.copy(X2)\n",
    "X3[pd.isna(X3)] = 0\n",
    "DT_model.fit(X3, Y)"
   ]
  },
  {
   "cell_type": "code",
   "execution_count": null,
   "id": "7e7513a5",
   "metadata": {
    "scrolled": true
   },
   "outputs": [],
   "source": [
    "x2 = x.copy()\n",
    "x2[scale_columns] = x_scaler.transform(x2[scale_columns])\n",
    "fig = plt.figure(figsize  = (10*18,10*12))\n",
    "plt_tree = plot_tree(DT_model.best_estimator_, \n",
    "              feature_names = [resize(col.split(':')[0]) for col in X2.columns], \n",
    "              filled = True,\n",
    "             max_depth = 2)\n",
    "plt.savefig('plots_2022/DescisionTree_3.png')"
   ]
  },
  {
   "cell_type": "code",
   "execution_count": null,
   "id": "fbeff944",
   "metadata": {},
   "outputs": [],
   "source": [
    "DT_model.score(x2,y)"
   ]
  },
  {
   "cell_type": "code",
   "execution_count": null,
   "id": "814dfc8c",
   "metadata": {
    "scrolled": false
   },
   "outputs": [],
   "source": [
    "y_pred = DT_model.predict(x2)\n",
    "sns.scatterplot(y = y_pred,\n",
    "                x = y.values)"
   ]
  },
  {
   "cell_type": "code",
   "execution_count": null,
   "id": "1563ec31",
   "metadata": {},
   "outputs": [],
   "source": [
    "pd.DataFrame({\"prediction\" : y_pred, \n",
    "              \"observation\"  : y.values}).corr()"
   ]
  },
  {
   "cell_type": "code",
   "execution_count": null,
   "id": "9103747a",
   "metadata": {},
   "outputs": [],
   "source": [
    "model_path = os.path.join(\"..\", \"Models\", \"DescisionTree.model\")\n",
    "with open(model_path, \"wb\") as f:\n",
    "    pickle.dump(DT_model, f)"
   ]
  },
  {
   "cell_type": "code",
   "execution_count": null,
   "id": "de675953",
   "metadata": {},
   "outputs": [],
   "source": []
  }
 ],
 "metadata": {
  "kernelspec": {
   "display_name": "Python 3 (ipykernel)",
   "language": "python",
   "name": "python3"
  },
  "language_info": {
   "codemirror_mode": {
    "name": "ipython",
    "version": 3
   },
   "file_extension": ".py",
   "mimetype": "text/x-python",
   "name": "python",
   "nbconvert_exporter": "python",
   "pygments_lexer": "ipython3",
   "version": "3.9.13"
  }
 },
 "nbformat": 4,
 "nbformat_minor": 5
}
