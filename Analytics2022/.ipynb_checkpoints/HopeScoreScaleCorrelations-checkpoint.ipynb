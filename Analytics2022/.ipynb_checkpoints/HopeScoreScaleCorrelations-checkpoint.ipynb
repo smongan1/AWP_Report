{
 "cells": [
  {
   "cell_type": "code",
   "execution_count": 11,
   "id": "61d70386",
   "metadata": {},
   "outputs": [],
   "source": [
    "import pandas as pd\n",
    "import pickle\n",
    "sep = '|'"
   ]
  },
  {
   "cell_type": "code",
   "execution_count": 4,
   "id": "7e7fc982",
   "metadata": {},
   "outputs": [],
   "source": [
    "\n",
    "df_orig = pd.read_csv(\"..\\\\raw_csv\\\\2022_Annual_Survey_Aggregate_Data_for_2022_Annual_Survey_20220905222712-SurveyExport.csv\", sep = sep)\n",
    "is_military = df_orig['Are you, or were you ever, an active member of the military or member of the National Guard or Reserve?'] == 'Yes'\n",
    "df_orig_military = df_orig[is_military].copy().reset_index()\n",
    "df_orig_civ = df_orig[~is_military]\n",
    "df_orig_military['All'] = 'All'"
   ]
  },
  {
   "cell_type": "code",
   "execution_count": 12,
   "id": "61751aba",
   "metadata": {},
   "outputs": [],
   "source": [
    "with open(\"Encodings_2022.dat\", 'rb') as f:\n",
    "    encodings = pickle.load(f)"
   ]
  },
  {
   "cell_type": "code",
   "execution_count": null,
   "id": "6eeda8d1",
   "metadata": {},
   "outputs": [],
   "source": [
    "dfAdapt = encode(df_orig_military[[x for x in df_orig_military.columns if any(y in x.lower() for y in ['adapt ', 'bounce', 'hope scale score'])]], conversion_dictionary).dropna()\n",
    "dfAdapt_corr = dfAdapt.corr().sort_values('Hope Scale Score', ascending = False)\n",
    "dfAdapt_corr2 = dfAdapt_corr['Hope Scale Score'].reset_index().dropna()[1:]\n",
    "dfAdapt_corr2['Hope Scale Score'] = dfAdapt_corr2['Hope Scale Score'].apply(round, args = [3])\n",
    "dfAdapt_corr2.columns = ['Adapt Question', 'Hope Scale Score Correlation']\n",
    "dfAdapt_corr2.set_index('Adapt Question')"
   ]
  },
  {
   "cell_type": "code",
   "execution_count": null,
   "id": "d5d85c1e",
   "metadata": {},
   "outputs": [],
   "source": [
    "dfHope =encode(df_orig_military[[x for x in df_orig_military if 'hope' in x.lower()]], conversion_dictionary).dropna()\n",
    "\n",
    "dfHope_corr.index = [x.split(':')[0] for x in dfHope_corr.index]\n",
    "dfHope_corr2 = dfHope_corr['Hope Scale Score'].reset_index().dropna()[1:]\n",
    "dfHope_corr2['Hope Scale Score'] = dfHope_corr2['Hope Scale Score'].apply(round, args = [3])\n",
    "dfHope_corr2.columns = ['Hope Question', 'Hope Scale Score Correlation']\n",
    "dfHope_corr2.set_index('Hope Question')"
   ]
  },
  {
   "cell_type": "code",
   "execution_count": null,
   "id": "e5477478",
   "metadata": {},
   "outputs": [],
   "source": [
    "dfAgree = df_orig_military[[x for x in df_orig_military if 'agree' in x.lower() or x.lower() == 'hope scale score']]\n",
    "dfAgree = encode(dfAgree, conversion_dictionary)\n",
    "dfAgree = dfAgree[~dfAgree['Hope Scale Score'].isna()]\n",
    "dfAgree = dfAgree.dropna()\n",
    "dfAgree = dfAgree.replace(r'?', np.nan)\n",
    "uns = set()\n",
    "for col in dfAgree:\n",
    "    un = dfAgree[col].unique()\n",
    "    for x in un:\n",
    "        if isinstance(x, str):\n",
    "            uns.add(x)\n",
    "    num_na = dfAgree[col].isna().sum()\n",
    "    if num_na == len(dfAgree):\n",
    "        dfAgree = dfAgree.drop(columns = col)\n",
    "for col in dfAgree:\n",
    "    \n",
    "    dfAgree[col] = dfAgree[col].apply(lambda x: np.nan if x in uns else x)\n",
    "    dfAgree[col] = dfAgree[col].fillna(dfAgree[col].mean())\n",
    "\n",
    "dfAgree_corr = dfAgree.corr().sort_values('Hope Scale Score', ascending = False)\n",
    "dfAgree_corr.index = [x.split(':')[0] for x in dfAgree_corr.index]\n",
    "dfAgree_corr2 = dfAgree_corr['Hope Scale Score'].reset_index().dropna()[1:]\n",
    "dfAgree_corr2['Hope Scale Score'] = dfAgree_corr2['Hope Scale Score'].apply(round, args = [3])\n",
    "dfAgree_corr2.columns = ['Agree/Disagree Question', 'Hope Scale Score Correlation']\n",
    "dfAgree_corr2.set_index('Agree/Disagree Question')"
   ]
  },
  {
   "cell_type": "code",
   "execution_count": null,
   "id": "38fe3b73",
   "metadata": {},
   "outputs": [],
   "source": [
    "dfSeek = df_orig_military[[x for x in df_orig_military if (('seeking' in x.lower() and not \n",
    "                                                            'you mentioned you are unemployed' in x.lower())\n",
    "                                                           or x.lower() == 'hope scale score')]]\n",
    "dfSeek = encode(dfSeek, conversion_dictionary)\n",
    "dfSeek = dfSeek[~dfSeek['Hope Scale Score'].isna()]\n",
    "#dfSeek = dfSeek.dropna()\n",
    "replace_dict = {}\n",
    "for col in dfSeek:\n",
    "    if col == 'Hope Scale Score':\n",
    "        continue\n",
    "    uns = dfSeek[col].unique()\n",
    "    for un in uns:\n",
    "        if not un in replace_dict:\n",
    "            print(uns)\n",
    "            print(\"WHAT IS :\", un)\n",
    "            replace_dict[un] = float(input())\n",
    "    dfSeek[col] = dfSeek[col].apply(replace_dict.__getitem__)\n",
    "dfSeek = dfSeek[dfSeek['Hope Scale Score'] < mn - stdev]\n",
    "dfSeek_corr = dfSeek.corr().sort_values('Hope Scale Score', ascending = False)\n",
    "dfSeek_corr.index = [x.split(':')[0] for x in dfSeek_corr.index]\n",
    "dfSeek_corr2 = dfSeek_corr['Hope Scale Score'].reset_index().dropna()[1:]\n",
    "dfSeek_corr2['Hope Scale Score'] = dfSeek_corr2['Hope Scale Score'].apply(round, args = [3])\n",
    "dfSeek_corr2.columns = ['Agree/Disagree Question', 'Hope Scale Score Correlation']\n",
    "dfSeek_corr2.set_index('Agree/Disagree Question')"
   ]
  },
  {
   "cell_type": "code",
   "execution_count": 14,
   "id": "a8e99d3f",
   "metadata": {},
   "outputs": [
    {
     "ename": "NameError",
     "evalue": "name 'encode' is not defined",
     "output_type": "error",
     "traceback": [
      "\u001b[1;31m---------------------------------------------------------------------------\u001b[0m",
      "\u001b[1;31mNameError\u001b[0m                                 Traceback (most recent call last)",
      "\u001b[1;32m~\\AppData\\Local\\Temp\\ipykernel_88\\3003442843.py\u001b[0m in \u001b[0;36m<module>\u001b[1;34m\u001b[0m\n\u001b[0;32m      2\u001b[0m                           'Hope Scale Score']]\n\u001b[0;32m      3\u001b[0m \u001b[0mdfDistance\u001b[0m \u001b[1;33m=\u001b[0m \u001b[0mdfDistance\u001b[0m\u001b[1;33m[\u001b[0m\u001b[1;33m~\u001b[0m\u001b[0mdfDistance\u001b[0m\u001b[1;33m[\u001b[0m\u001b[1;34m'Hope Scale Score'\u001b[0m\u001b[1;33m]\u001b[0m\u001b[1;33m.\u001b[0m\u001b[0misna\u001b[0m\u001b[1;33m(\u001b[0m\u001b[1;33m)\u001b[0m\u001b[1;33m]\u001b[0m\u001b[1;33m\u001b[0m\u001b[1;33m\u001b[0m\u001b[0m\n\u001b[1;32m----> 4\u001b[1;33m \u001b[0mdfDistance\u001b[0m \u001b[1;33m=\u001b[0m \u001b[0mencode\u001b[0m\u001b[1;33m(\u001b[0m\u001b[0mdfDistance\u001b[0m\u001b[1;33m,\u001b[0m \u001b[0mencodings\u001b[0m\u001b[1;33m)\u001b[0m\u001b[1;33m\u001b[0m\u001b[1;33m\u001b[0m\u001b[0m\n\u001b[0m\u001b[0;32m      5\u001b[0m \u001b[0mdfDistance_corr\u001b[0m \u001b[1;33m=\u001b[0m \u001b[0mdfDistance\u001b[0m\u001b[1;33m.\u001b[0m\u001b[0mcorr\u001b[0m\u001b[1;33m(\u001b[0m\u001b[1;33m)\u001b[0m\u001b[1;33m.\u001b[0m\u001b[0msort_values\u001b[0m\u001b[1;33m(\u001b[0m\u001b[1;34m'Hope Scale Score'\u001b[0m\u001b[1;33m,\u001b[0m \u001b[0mascending\u001b[0m \u001b[1;33m=\u001b[0m \u001b[1;32mFalse\u001b[0m\u001b[1;33m)\u001b[0m\u001b[1;33m\u001b[0m\u001b[1;33m\u001b[0m\u001b[0m\n",
      "\u001b[1;31mNameError\u001b[0m: name 'encode' is not defined"
     ]
    }
   ],
   "source": [
    "dfDistance = df_orig_military[['How far is the Veterans Affairs (VA) medical facility within in miles of where you live? Â\\xa0',\n",
    "                          'Hope Scale Score']]\n",
    "dfDistance = dfDistance[~dfDistance['Hope Scale Score'].isna()]\n",
    "dfDistance = encode(dfDistance, encodings)\n",
    "dfDistance_corr = dfDistance.corr().sort_values('Hope Scale Score', ascending = False)"
   ]
  },
  {
   "cell_type": "code",
   "execution_count": 8,
   "id": "69aba563",
   "metadata": {},
   "outputs": [
    {
     "data": {
      "text/html": [
       "<div>\n",
       "<style scoped>\n",
       "    .dataframe tbody tr th:only-of-type {\n",
       "        vertical-align: middle;\n",
       "    }\n",
       "\n",
       "    .dataframe tbody tr th {\n",
       "        vertical-align: top;\n",
       "    }\n",
       "\n",
       "    .dataframe thead th {\n",
       "        text-align: right;\n",
       "    }\n",
       "</style>\n",
       "<table border=\"1\" class=\"dataframe\">\n",
       "  <thead>\n",
       "    <tr style=\"text-align: right;\">\n",
       "      <th></th>\n",
       "      <th>Hope Scale Score</th>\n",
       "    </tr>\n",
       "  </thead>\n",
       "  <tbody>\n",
       "    <tr>\n",
       "      <th>Hope Scale Score</th>\n",
       "      <td>1.0</td>\n",
       "    </tr>\n",
       "  </tbody>\n",
       "</table>\n",
       "</div>"
      ],
      "text/plain": [
       "                  Hope Scale Score\n",
       "Hope Scale Score               1.0"
      ]
     },
     "execution_count": 8,
     "metadata": {},
     "output_type": "execute_result"
    }
   ],
   "source": [
    "dfDistance_corr"
   ]
  },
  {
   "cell_type": "code",
   "execution_count": 9,
   "id": "8601ba7c",
   "metadata": {},
   "outputs": [
    {
     "data": {
      "text/html": [
       "<div>\n",
       "<style scoped>\n",
       "    .dataframe tbody tr th:only-of-type {\n",
       "        vertical-align: middle;\n",
       "    }\n",
       "\n",
       "    .dataframe tbody tr th {\n",
       "        vertical-align: top;\n",
       "    }\n",
       "\n",
       "    .dataframe thead th {\n",
       "        text-align: right;\n",
       "    }\n",
       "</style>\n",
       "<table border=\"1\" class=\"dataframe\">\n",
       "  <thead>\n",
       "    <tr style=\"text-align: right;\">\n",
       "      <th></th>\n",
       "      <th>How far is the Veterans Affairs (VA) medical facility within in miles of where you live? Â</th>\n",
       "      <th>Hope Scale Score</th>\n",
       "    </tr>\n",
       "  </thead>\n",
       "  <tbody>\n",
       "    <tr>\n",
       "      <th>0</th>\n",
       "      <td>20 miles or more</td>\n",
       "      <td>59.0</td>\n",
       "    </tr>\n",
       "    <tr>\n",
       "      <th>1</th>\n",
       "      <td>Less than 10 miles away</td>\n",
       "      <td>14.0</td>\n",
       "    </tr>\n",
       "    <tr>\n",
       "      <th>2</th>\n",
       "      <td>20 miles or more</td>\n",
       "      <td>43.0</td>\n",
       "    </tr>\n",
       "    <tr>\n",
       "      <th>3</th>\n",
       "      <td>20 miles or more</td>\n",
       "      <td>50.0</td>\n",
       "    </tr>\n",
       "    <tr>\n",
       "      <th>4</th>\n",
       "      <td>20 miles or more</td>\n",
       "      <td>42.0</td>\n",
       "    </tr>\n",
       "    <tr>\n",
       "      <th>...</th>\n",
       "      <td>...</td>\n",
       "      <td>...</td>\n",
       "    </tr>\n",
       "    <tr>\n",
       "      <th>1366</th>\n",
       "      <td>20 miles or more</td>\n",
       "      <td>57.0</td>\n",
       "    </tr>\n",
       "    <tr>\n",
       "      <th>1367</th>\n",
       "      <td>Less than 10 miles away</td>\n",
       "      <td>49.0</td>\n",
       "    </tr>\n",
       "    <tr>\n",
       "      <th>1368</th>\n",
       "      <td>10 miles</td>\n",
       "      <td>24.0</td>\n",
       "    </tr>\n",
       "    <tr>\n",
       "      <th>1369</th>\n",
       "      <td>20 miles or more</td>\n",
       "      <td>62.0</td>\n",
       "    </tr>\n",
       "    <tr>\n",
       "      <th>1370</th>\n",
       "      <td>Less than 10 miles away</td>\n",
       "      <td>52.0</td>\n",
       "    </tr>\n",
       "  </tbody>\n",
       "</table>\n",
       "<p>1371 rows × 2 columns</p>\n",
       "</div>"
      ],
      "text/plain": [
       "     How far is the Veterans Affairs (VA) medical facility within in miles of where you live? Â   \\\n",
       "0                                      20 miles or more                                            \n",
       "1                               Less than 10 miles away                                            \n",
       "2                                      20 miles or more                                            \n",
       "3                                      20 miles or more                                            \n",
       "4                                      20 miles or more                                            \n",
       "...                                                 ...                                            \n",
       "1366                                   20 miles or more                                            \n",
       "1367                            Less than 10 miles away                                            \n",
       "1368                                           10 miles                                            \n",
       "1369                                   20 miles or more                                            \n",
       "1370                            Less than 10 miles away                                            \n",
       "\n",
       "      Hope Scale Score  \n",
       "0                 59.0  \n",
       "1                 14.0  \n",
       "2                 43.0  \n",
       "3                 50.0  \n",
       "4                 42.0  \n",
       "...                ...  \n",
       "1366              57.0  \n",
       "1367              49.0  \n",
       "1368              24.0  \n",
       "1369              62.0  \n",
       "1370              52.0  \n",
       "\n",
       "[1371 rows x 2 columns]"
      ]
     },
     "execution_count": 9,
     "metadata": {},
     "output_type": "execute_result"
    }
   ],
   "source": [
    "df_orig_military[['How far is the Veterans Affairs (VA) medical facility within in miles of where you live? Â\\xa0',\n",
    "                          'Hope Scale Score']]"
   ]
  },
  {
   "cell_type": "code",
   "execution_count": null,
   "id": "32d224b7",
   "metadata": {},
   "outputs": [],
   "source": []
  }
 ],
 "metadata": {
  "kernelspec": {
   "display_name": "Python 3 (ipykernel)",
   "language": "python",
   "name": "python3"
  },
  "language_info": {
   "codemirror_mode": {
    "name": "ipython",
    "version": 3
   },
   "file_extension": ".py",
   "mimetype": "text/x-python",
   "name": "python",
   "nbconvert_exporter": "python",
   "pygments_lexer": "ipython3",
   "version": "3.9.13"
  }
 },
 "nbformat": 4,
 "nbformat_minor": 5
}
