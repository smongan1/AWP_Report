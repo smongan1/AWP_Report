{
 "cells": [
  {
   "cell_type": "code",
   "execution_count": null,
   "id": "c9f6a7ac",
   "metadata": {},
   "outputs": [],
   "source": [
    "df_orig = pd.read_csv(\"..\\\\raw_csv\\\\2022_Annual_Survey_Aggregate_Data_for_2022_Annual_Survey_20220905222712-SurveyExport.csv\", sep = sep)\n",
    "for x in df_orig:\n",
    "    if df_orig[x].isna().sum() == len(df_orig):\n",
    "        df_orig.drop(columns = x)\n",
    "df_orig = df_orig[df_orig.apply(lambda x : sum([pd.isna(y) for y in x])/len(x) < 0.5, axis = 1)]\n",
    "df_orig = df_orig[~df_orig['Hope Scale Score'].isna()]\n",
    "is_military = df_orig['Are you, or were you ever, an active member of the military or member of the National Guard or Reserve?'] == 'Yes'\n",
    "df_orig_military = df_orig[is_military]\n",
    "df_orig_civ = df_orig[~is_military]"
   ]
  },
  {
   "cell_type": "code",
   "execution_count": null,
   "id": "3db36aa2",
   "metadata": {},
   "outputs": [],
   "source": [
    "for i, x in enumerate(df_orig.columns):\n",
    "    if 'seek' in '@'.join([str(y).lower() for y in df_orig[x].unique()]):\n",
    "        continue\n",
    "    print(str(i+1) + '.', x)"
   ]
  },
  {
   "cell_type": "code",
   "execution_count": null,
   "id": "d473d33d",
   "metadata": {},
   "outputs": [],
   "source": [
    "for i, x in enumerate(df_orig.columns):\n",
    "    if not 'seek' in '@'.join([str(y).lower() for y in df_orig[x].unique()]):\n",
    "        continue\n",
    "    print(x)\n",
    "    print()"
   ]
  },
  {
   "cell_type": "code",
   "execution_count": null,
   "id": "7073bc86",
   "metadata": {},
   "outputs": [],
   "source": [
    "question_pairings = {\n",
    "    \"Education benefits (e.g., Montgomery, Post-9/11, GI Bill) - for my family  or myself:What information or resources are you seeking (Select all that apply)?\":\n",
    "                     [\"Have you ever used education benefits from the VA to pursue a degree or certification? (e.g., Montgomery, Post-9/11, GI Bill)\",\n",
    "                      \"Education status: What is the highest degree or level of school you have completed?\"],\n",
    "    \n",
    "    \"New housing:What information or resources are you seeking (Select all that apply)?\" : \"Housing statusÂ\\xa0\",\n",
    "    \"Better transportation:What information or resources are you seeking (Select all that apply)?\" : [\n",
    "                                    'What is your primary mode of transportation?',\n",
    "                                'Do you consider this a reliable mode of transportation for your lifestyle?'\n",
    "    ],\n",
    "    \"Opportunities for me to connect with other military/veteran service members and families/caregivers:What information or resources are you seeking (Select all that apply)?\" :\n",
    "        'I have the resources I need for my care:To what extent do you disagree or agree with the following statements:',\n",
    "    \"Opportunities for recreational or other physical activities:What information or resources are you seeking (Select all that apply)?\":\n",
    "                    'Do you belong to a local recreational sports team or organization?',\n",
    "    \"Health and benefits (VA or non-VA) (e.g., Enrollment):What information or resources are you seeking (Select all that apply)?\":\n",
    "                            'Veterans Affairs (VA):What type of health insurance coverage do you currently have for yourself?Â\\xa0 Please check all that apply.',\n",
    "    \"Physical health treatment and/or resources and support (e.g., Better access to scheduled appointments):What information or resources are you seeking (Select all that apply)?\" :\n",
    "            'Do you currently have any untreated medical conditions? Note: Medical conditions may include any short or long-term physical or mental issues (e.g., neck pain, traumatic brain injury (TBI), post-traumatic stress disorder (PTSD), sleep problems, diabetes, heart conditions etc.)',\n",
    "    \"Resources/classes on financial counseling (e.g., how to maintain strong finances):What information or resources are you seeking (Select all that apply)?\" : \n",
    "                    \"Has helped me improve my financial habits:To what extent do you disagree or agree with the following statements regardingÂ\\xa0veteran serving organizations within your community?\",\n",
    "    \"Short-term financial assistance (e.g., to address utility bills, etc.):What information or resources are you seeking (Select all that apply)?\" :\n",
    "   \"Has helped me improve my financial habits:To what extent do you disagree or agree with the following statements regardingÂ\\xa0veteran serving organizations within your community?\",\n",
    "    \"Spirituality resources and support:What information or resources are you seeking (Select all that apply)?\":\n",
    "    'Do you participate in any spiritual/religious activities?Â\\xa0 Â\\xa0',\n",
    "    \"Marriage/family programs:What information or resources are you seeking (Select all that apply)?\":\n",
    "    'There are opportunities for my family/caregiver  to connect with fellow military/veteran families/caregivers:To what extent do you disagree or agree with the following statements:'\n",
    "}"
   ]
  },
  {
   "cell_type": "code",
   "execution_count": null,
   "id": "79f4a42f",
   "metadata": {},
   "outputs": [],
   "source": [
    "for question in question_pairings:\n",
    "    need_items_questions = question_pairings[question]\n",
    "    if isinstance(need_items_questions, str):\n",
    "        need_items_questions = [need_items_questions]\n",
    "    for question2 in need_items_questions:\n",
    "        print(df_orig_military[[question, question2]].head().to_string())\n",
    "        sns.b"
   ]
  }
 ],
 "metadata": {
  "kernelspec": {
   "display_name": "Python 3 (ipykernel)",
   "language": "python",
   "name": "python3"
  },
  "language_info": {
   "codemirror_mode": {
    "name": "ipython",
    "version": 3
   },
   "file_extension": ".py",
   "mimetype": "text/x-python",
   "name": "python",
   "nbconvert_exporter": "python",
   "pygments_lexer": "ipython3",
   "version": "3.9.13"
  }
 },
 "nbformat": 4,
 "nbformat_minor": 5
}
